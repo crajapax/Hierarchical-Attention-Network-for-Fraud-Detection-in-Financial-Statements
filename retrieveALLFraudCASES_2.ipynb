{
 "cells": [
  {
   "cell_type": "code",
   "execution_count": 1,
   "metadata": {},
   "outputs": [],
   "source": [
    "import os\n",
    "import re\n",
    "import pandas as pd\n",
    "from nltk.tokenize import RegexpTokenizer, sent_tokenize\n",
    "import numpy as np\n",
    "import edgar10kmda.edgar as ed"
   ]
  },
  {
   "cell_type": "code",
   "execution_count": 2,
   "metadata": {},
   "outputs": [],
   "source": [
    "df1=pd.read_csv('/Volumes/Elements/MasterThesis/Thesis/DataSheets/FraudCases.csv',header=None, sep=',')\n",
    "df2=pd.read_csv('/Volumes/Elements/MasterThesis/Thesis/DataSheets/index.10k.csv',header=None, sep=',')\n",
    "\n"
   ]
  },
  {
   "cell_type": "code",
   "execution_count": 3,
   "metadata": {
    "scrolled": true
   },
   "outputs": [
    {
     "data": {
      "text/html": [
       "<div>\n",
       "<style scoped>\n",
       "    .dataframe tbody tr th:only-of-type {\n",
       "        vertical-align: middle;\n",
       "    }\n",
       "\n",
       "    .dataframe tbody tr th {\n",
       "        vertical-align: top;\n",
       "    }\n",
       "\n",
       "    .dataframe thead th {\n",
       "        text-align: right;\n",
       "    }\n",
       "</style>\n",
       "<table border=\"1\" class=\"dataframe\">\n",
       "  <thead>\n",
       "    <tr style=\"text-align: right;\">\n",
       "      <th></th>\n",
       "      <th>0</th>\n",
       "      <th>1</th>\n",
       "      <th>2</th>\n",
       "      <th>3</th>\n",
       "      <th>4</th>\n",
       "      <th>5</th>\n",
       "      <th>6</th>\n",
       "      <th>7</th>\n",
       "      <th>8</th>\n",
       "      <th>9</th>\n",
       "    </tr>\n",
       "  </thead>\n",
       "  <tbody>\n",
       "    <tr>\n",
       "      <th>0</th>\n",
       "      <td>Uni-Pixel 2013</td>\n",
       "      <td>https://www.sec.gov/Archives/edgar/data/117101...</td>\n",
       "      <td>NaN</td>\n",
       "      <td>NaN</td>\n",
       "      <td>NaN</td>\n",
       "      <td>NaN</td>\n",
       "      <td>NaN</td>\n",
       "      <td>NaN</td>\n",
       "      <td>NaN</td>\n",
       "      <td>NaN</td>\n",
       "    </tr>\n",
       "    <tr>\n",
       "      <th>1</th>\n",
       "      <td>Uni-Pixel 2014</td>\n",
       "      <td>https://www.sec.gov/Archives/edgar/data/117101...</td>\n",
       "      <td>NaN</td>\n",
       "      <td>NaN</td>\n",
       "      <td>NaN</td>\n",
       "      <td>NaN</td>\n",
       "      <td>NaN</td>\n",
       "      <td>NaN</td>\n",
       "      <td>NaN</td>\n",
       "      <td>NaN</td>\n",
       "    </tr>\n",
       "    <tr>\n",
       "      <th>2</th>\n",
       "      <td>om group inc 2002</td>\n",
       "      <td>https://www.sec.gov/Archives/edgar/data/899723...</td>\n",
       "      <td>NaN</td>\n",
       "      <td>NaN</td>\n",
       "      <td>NaN</td>\n",
       "      <td>NaN</td>\n",
       "      <td>NaN</td>\n",
       "      <td>NaN</td>\n",
       "      <td>NaN</td>\n",
       "      <td>NaN</td>\n",
       "    </tr>\n",
       "    <tr>\n",
       "      <th>3</th>\n",
       "      <td>om group inc 2003</td>\n",
       "      <td>https://www.sec.gov/Archives/edgar/data/899723...</td>\n",
       "      <td>NaN</td>\n",
       "      <td>NaN</td>\n",
       "      <td>NaN</td>\n",
       "      <td>NaN</td>\n",
       "      <td>NaN</td>\n",
       "      <td>NaN</td>\n",
       "      <td>NaN</td>\n",
       "      <td>NaN</td>\n",
       "    </tr>\n",
       "    <tr>\n",
       "      <th>4</th>\n",
       "      <td>SMF Energy Corp 2011</td>\n",
       "      <td>https://www.sec.gov/Archives/edgar/data/102445...</td>\n",
       "      <td>NaN</td>\n",
       "      <td>NaN</td>\n",
       "      <td>NaN</td>\n",
       "      <td>NaN</td>\n",
       "      <td>NaN</td>\n",
       "      <td>NaN</td>\n",
       "      <td>NaN</td>\n",
       "      <td>NaN</td>\n",
       "    </tr>\n",
       "  </tbody>\n",
       "</table>\n",
       "</div>"
      ],
      "text/plain": [
       "                      0                                                  1  \\\n",
       "0        Uni-Pixel 2013  https://www.sec.gov/Archives/edgar/data/117101...   \n",
       "1        Uni-Pixel 2014  https://www.sec.gov/Archives/edgar/data/117101...   \n",
       "2     om group inc 2002  https://www.sec.gov/Archives/edgar/data/899723...   \n",
       "3     om group inc 2003  https://www.sec.gov/Archives/edgar/data/899723...   \n",
       "4  SMF Energy Corp 2011  https://www.sec.gov/Archives/edgar/data/102445...   \n",
       "\n",
       "    2   3   4    5    6   7    8    9  \n",
       "0 NaN NaN NaN  NaN  NaN NaN  NaN  NaN  \n",
       "1 NaN NaN NaN  NaN  NaN NaN  NaN  NaN  \n",
       "2 NaN NaN NaN  NaN  NaN NaN  NaN  NaN  \n",
       "3 NaN NaN NaN  NaN  NaN NaN  NaN  NaN  \n",
       "4 NaN NaN NaN  NaN  NaN NaN  NaN  NaN  "
      ]
     },
     "execution_count": 3,
     "metadata": {},
     "output_type": "execute_result"
    }
   ],
   "source": [
    "#Full Fraud Cases(identified from AAER) manually from Meirut\n",
    "#to be scraped from SEC \n",
    "df1.head()"
   ]
  },
  {
   "cell_type": "code",
   "execution_count": 5,
   "metadata": {},
   "outputs": [
    {
     "data": {
      "text/html": [
       "<div>\n",
       "<style scoped>\n",
       "    .dataframe tbody tr th:only-of-type {\n",
       "        vertical-align: middle;\n",
       "    }\n",
       "\n",
       "    .dataframe tbody tr th {\n",
       "        vertical-align: top;\n",
       "    }\n",
       "\n",
       "    .dataframe thead th {\n",
       "        text-align: right;\n",
       "    }\n",
       "</style>\n",
       "<table border=\"1\" class=\"dataframe\">\n",
       "  <thead>\n",
       "    <tr style=\"text-align: right;\">\n",
       "      <th></th>\n",
       "      <th>0</th>\n",
       "      <th>1</th>\n",
       "      <th>2</th>\n",
       "      <th>3</th>\n",
       "      <th>4</th>\n",
       "    </tr>\n",
       "  </thead>\n",
       "  <tbody>\n",
       "    <tr>\n",
       "      <th>0</th>\n",
       "      <td>10-K</td>\n",
       "      <td>AMERICAN MEDICAL HOLDINGS INC</td>\n",
       "      <td>861439</td>\n",
       "      <td>1993-11-29</td>\n",
       "      <td>edgar/data/861439/0000912057-94-000263.txt</td>\n",
       "    </tr>\n",
       "    <tr>\n",
       "      <th>1</th>\n",
       "      <td>10-K</td>\n",
       "      <td>DISNEY WALT CO</td>\n",
       "      <td>29082</td>\n",
       "      <td>1993-12-22</td>\n",
       "      <td>edgar/data/29082/0000950131-94-000021.txt</td>\n",
       "    </tr>\n",
       "    <tr>\n",
       "      <th>2</th>\n",
       "      <td>10-K</td>\n",
       "      <td>ELIZABETHTOWN GAS CO</td>\n",
       "      <td>32377</td>\n",
       "      <td>1993-12-13</td>\n",
       "      <td>edgar/data/32377/0000032377-94-000001.txt</td>\n",
       "    </tr>\n",
       "    <tr>\n",
       "      <th>3</th>\n",
       "      <td>10-K</td>\n",
       "      <td>INTERNATIONAL GAME TECHNOLOGY</td>\n",
       "      <td>353944</td>\n",
       "      <td>1993-12-23</td>\n",
       "      <td>edgar/data/353944/0000353944-94-000005.txt</td>\n",
       "    </tr>\n",
       "    <tr>\n",
       "      <th>4</th>\n",
       "      <td>10-K</td>\n",
       "      <td>ABBOTT LABORATORIES</td>\n",
       "      <td>1800</td>\n",
       "      <td>1994-03-03</td>\n",
       "      <td>edgar/data/1800/0000912057-94-000771.txt</td>\n",
       "    </tr>\n",
       "  </tbody>\n",
       "</table>\n",
       "</div>"
      ],
      "text/plain": [
       "      0                              1       2           3  \\\n",
       "0  10-K  AMERICAN MEDICAL HOLDINGS INC  861439  1993-11-29   \n",
       "1  10-K                 DISNEY WALT CO   29082  1993-12-22   \n",
       "2  10-K           ELIZABETHTOWN GAS CO   32377  1993-12-13   \n",
       "3  10-K  INTERNATIONAL GAME TECHNOLOGY  353944  1993-12-23   \n",
       "4  10-K            ABBOTT LABORATORIES    1800  1994-03-03   \n",
       "\n",
       "                                            4  \n",
       "0  edgar/data/861439/0000912057-94-000263.txt  \n",
       "1   edgar/data/29082/0000950131-94-000021.txt  \n",
       "2   edgar/data/32377/0000032377-94-000001.txt  \n",
       "3  edgar/data/353944/0000353944-94-000005.txt  \n",
       "4    edgar/data/1800/0000912057-94-000771.txt  "
      ]
     },
     "execution_count": 5,
     "metadata": {},
     "output_type": "execute_result"
    }
   ],
   "source": [
    "#Full Index10k Dataframe from 1993-2019 with shape (187869, 5)\n",
    "df2.head()"
   ]
  },
  {
   "cell_type": "code",
   "execution_count": 7,
   "metadata": {},
   "outputs": [],
   "source": [
    "FraudurlList=df1[1].tolist()\n",
    "FileNameList=[k.split('Archives/', 1)[1] for k in FraudurlList]\n",
    "df1[2]=pd.Series(FileNameList)\n",
    "FraudCompanyNameYearList=df1[0].tolist()\n",
    "FraudCompanyNameList=[k[:-5] for k in FraudCompanyNameYearList]\n",
    "df1[0]=pd.Series(FraudCompanyNameList)\n",
    "FraudCompanyYearList=[k[-4:] for k in FraudCompanyNameYearList]\n",
    "df1[1]=pd.Series(FraudCompanyYearList)\n"
   ]
  },
  {
   "cell_type": "code",
   "execution_count": 8,
   "metadata": {},
   "outputs": [
    {
     "data": {
      "text/html": [
       "<div>\n",
       "<style scoped>\n",
       "    .dataframe tbody tr th:only-of-type {\n",
       "        vertical-align: middle;\n",
       "    }\n",
       "\n",
       "    .dataframe tbody tr th {\n",
       "        vertical-align: top;\n",
       "    }\n",
       "\n",
       "    .dataframe thead th {\n",
       "        text-align: right;\n",
       "    }\n",
       "</style>\n",
       "<table border=\"1\" class=\"dataframe\">\n",
       "  <thead>\n",
       "    <tr style=\"text-align: right;\">\n",
       "      <th></th>\n",
       "      <th>0</th>\n",
       "      <th>1</th>\n",
       "      <th>2</th>\n",
       "      <th>3</th>\n",
       "      <th>4</th>\n",
       "      <th>5</th>\n",
       "      <th>6</th>\n",
       "      <th>7</th>\n",
       "      <th>8</th>\n",
       "      <th>9</th>\n",
       "    </tr>\n",
       "  </thead>\n",
       "  <tbody>\n",
       "    <tr>\n",
       "      <th>0</th>\n",
       "      <td>Uni-Pixel</td>\n",
       "      <td>2013</td>\n",
       "      <td>edgar/data/1171012/0001185185-13-000386.txt</td>\n",
       "      <td>NaN</td>\n",
       "      <td>NaN</td>\n",
       "      <td>NaN</td>\n",
       "      <td>NaN</td>\n",
       "      <td>NaN</td>\n",
       "      <td>NaN</td>\n",
       "      <td>NaN</td>\n",
       "    </tr>\n",
       "    <tr>\n",
       "      <th>1</th>\n",
       "      <td>Uni-Pixel</td>\n",
       "      <td>2014</td>\n",
       "      <td>edgar/data/1171012/0001185185-14-000424.txt</td>\n",
       "      <td>NaN</td>\n",
       "      <td>NaN</td>\n",
       "      <td>NaN</td>\n",
       "      <td>NaN</td>\n",
       "      <td>NaN</td>\n",
       "      <td>NaN</td>\n",
       "      <td>NaN</td>\n",
       "    </tr>\n",
       "    <tr>\n",
       "      <th>2</th>\n",
       "      <td>om group inc</td>\n",
       "      <td>2002</td>\n",
       "      <td>edgar/data/899723/0000950152-02-002583.txt</td>\n",
       "      <td>NaN</td>\n",
       "      <td>NaN</td>\n",
       "      <td>NaN</td>\n",
       "      <td>NaN</td>\n",
       "      <td>NaN</td>\n",
       "      <td>NaN</td>\n",
       "      <td>NaN</td>\n",
       "    </tr>\n",
       "    <tr>\n",
       "      <th>3</th>\n",
       "      <td>om group inc</td>\n",
       "      <td>2003</td>\n",
       "      <td>edgar/data/899723/0000950152-03-003357.txt</td>\n",
       "      <td>NaN</td>\n",
       "      <td>NaN</td>\n",
       "      <td>NaN</td>\n",
       "      <td>NaN</td>\n",
       "      <td>NaN</td>\n",
       "      <td>NaN</td>\n",
       "      <td>NaN</td>\n",
       "    </tr>\n",
       "    <tr>\n",
       "      <th>4</th>\n",
       "      <td>SMF Energy Corp</td>\n",
       "      <td>2011</td>\n",
       "      <td>edgar/data/1024452/0001144204-11-055366.txt</td>\n",
       "      <td>NaN</td>\n",
       "      <td>NaN</td>\n",
       "      <td>NaN</td>\n",
       "      <td>NaN</td>\n",
       "      <td>NaN</td>\n",
       "      <td>NaN</td>\n",
       "      <td>NaN</td>\n",
       "    </tr>\n",
       "  </tbody>\n",
       "</table>\n",
       "</div>"
      ],
      "text/plain": [
       "                 0     1                                            2   3   4  \\\n",
       "0        Uni-Pixel  2013  edgar/data/1171012/0001185185-13-000386.txt NaN NaN   \n",
       "1        Uni-Pixel  2014  edgar/data/1171012/0001185185-14-000424.txt NaN NaN   \n",
       "2     om group inc  2002   edgar/data/899723/0000950152-02-002583.txt NaN NaN   \n",
       "3     om group inc  2003   edgar/data/899723/0000950152-03-003357.txt NaN NaN   \n",
       "4  SMF Energy Corp  2011  edgar/data/1024452/0001144204-11-055366.txt NaN NaN   \n",
       "\n",
       "     5    6   7    8    9  \n",
       "0  NaN  NaN NaN  NaN  NaN  \n",
       "1  NaN  NaN NaN  NaN  NaN  \n",
       "2  NaN  NaN NaN  NaN  NaN  \n",
       "3  NaN  NaN NaN  NaN  NaN  \n",
       "4  NaN  NaN NaN  NaN  NaN  "
      ]
     },
     "execution_count": 8,
     "metadata": {},
     "output_type": "execute_result"
    }
   ],
   "source": [
    "df1.head()"
   ]
  },
  {
   "cell_type": "code",
   "execution_count": 9,
   "metadata": {
    "scrolled": true
   },
   "outputs": [
    {
     "data": {
      "text/html": [
       "<div>\n",
       "<style scoped>\n",
       "    .dataframe tbody tr th:only-of-type {\n",
       "        vertical-align: middle;\n",
       "    }\n",
       "\n",
       "    .dataframe tbody tr th {\n",
       "        vertical-align: top;\n",
       "    }\n",
       "\n",
       "    .dataframe thead th {\n",
       "        text-align: right;\n",
       "    }\n",
       "</style>\n",
       "<table border=\"1\" class=\"dataframe\">\n",
       "  <thead>\n",
       "    <tr style=\"text-align: right;\">\n",
       "      <th></th>\n",
       "      <th>0</th>\n",
       "      <th>1</th>\n",
       "      <th>2</th>\n",
       "      <th>3</th>\n",
       "      <th>4</th>\n",
       "    </tr>\n",
       "  </thead>\n",
       "  <tbody>\n",
       "    <tr>\n",
       "      <th>1489</th>\n",
       "      <td>10-K</td>\n",
       "      <td>POLICY MANAGEMENT SYSTEMS CORP</td>\n",
       "      <td>356226</td>\n",
       "      <td>1994-04-13</td>\n",
       "      <td>edgar/data/356226/0000356226-94-000007.txt</td>\n",
       "    </tr>\n",
       "    <tr>\n",
       "      <th>3025</th>\n",
       "      <td>10-K</td>\n",
       "      <td>STRUCTURAL DYNAMICS RESEARCH CORP /OH/</td>\n",
       "      <td>820235</td>\n",
       "      <td>1995-03-28</td>\n",
       "      <td>edgar/data/820235/0000906318-95-000015.txt</td>\n",
       "    </tr>\n",
       "    <tr>\n",
       "      <th>6292</th>\n",
       "      <td>10-K</td>\n",
       "      <td>CUC INTERNATIONAL INC /DE/</td>\n",
       "      <td>723612</td>\n",
       "      <td>1996-04-25</td>\n",
       "      <td>edgar/data/723612/0000950112-96-001227.txt</td>\n",
       "    </tr>\n",
       "    <tr>\n",
       "      <th>10272</th>\n",
       "      <td>10-K</td>\n",
       "      <td>HEALTHSOUTH CORP</td>\n",
       "      <td>785161</td>\n",
       "      <td>1997-03-27</td>\n",
       "      <td>edgar/data/785161/0001005150-97-000195.txt</td>\n",
       "    </tr>\n",
       "    <tr>\n",
       "      <th>13016</th>\n",
       "      <td>10-K</td>\n",
       "      <td>CUC INTERNATIONAL INC /DE/</td>\n",
       "      <td>723612</td>\n",
       "      <td>1997-05-01</td>\n",
       "      <td>edgar/data/723612/0001005477-97-001218.txt</td>\n",
       "    </tr>\n",
       "  </tbody>\n",
       "</table>\n",
       "</div>"
      ],
      "text/plain": [
       "          0                                       1       2           3  \\\n",
       "1489   10-K          POLICY MANAGEMENT SYSTEMS CORP  356226  1994-04-13   \n",
       "3025   10-K  STRUCTURAL DYNAMICS RESEARCH CORP /OH/  820235  1995-03-28   \n",
       "6292   10-K              CUC INTERNATIONAL INC /DE/  723612  1996-04-25   \n",
       "10272  10-K                        HEALTHSOUTH CORP  785161  1997-03-27   \n",
       "13016  10-K              CUC INTERNATIONAL INC /DE/  723612  1997-05-01   \n",
       "\n",
       "                                                4  \n",
       "1489   edgar/data/356226/0000356226-94-000007.txt  \n",
       "3025   edgar/data/820235/0000906318-95-000015.txt  \n",
       "6292   edgar/data/723612/0000950112-96-001227.txt  \n",
       "10272  edgar/data/785161/0001005150-97-000195.txt  \n",
       "13016  edgar/data/723612/0001005477-97-001218.txt  "
      ]
     },
     "execution_count": 9,
     "metadata": {},
     "output_type": "execute_result"
    }
   ],
   "source": [
    "#Sub DataFrame of DF2 with just the Fraud Cases from DF1 has a shape of 654 Fraud Cases\n",
    "df3=df2.loc[df2[4].isin(FileNameList)]\n",
    "df3.to_csv('FraudCases9319.csv', header=False, index=False)\n",
    "df3.head()"
   ]
  },
  {
   "cell_type": "code",
   "execution_count": 202,
   "metadata": {},
   "outputs": [
    {
     "data": {
      "text/plain": [
       "654"
      ]
     },
     "execution_count": 202,
     "metadata": {},
     "output_type": "execute_result"
    }
   ],
   "source": [
    "Df3urlList=df3[4].tolist()\n",
    "len(Df3urlList)"
   ]
  },
  {
   "cell_type": "code",
   "execution_count": 11,
   "metadata": {},
   "outputs": [
    {
     "data": {
      "text/plain": [
       "(654, 5)"
      ]
     },
     "execution_count": 11,
     "metadata": {},
     "output_type": "execute_result"
    }
   ],
   "source": [
    "#from 662 Fraud Cases manually retrieved from Meirut, 8 could not be found in Index File csv\n",
    "df3.shape"
   ]
  },
  {
   "cell_type": "code",
   "execution_count": 12,
   "metadata": {},
   "outputs": [
    {
     "data": {
      "text/plain": [
       "691"
      ]
     },
     "execution_count": 12,
     "metadata": {},
     "output_type": "execute_result"
    }
   ],
   "source": [
    "len(FileNameList)"
   ]
  },
  {
   "cell_type": "code",
   "execution_count": 13,
   "metadata": {},
   "outputs": [
    {
     "data": {
      "text/plain": [
       "662"
      ]
     },
     "execution_count": 13,
     "metadata": {},
     "output_type": "execute_result"
    }
   ],
   "source": [
    "len(FileNameList)\n",
    "#remove Duplicates from a Python List--means in DF1 tehre are 691-662 duplicates. \n",
    "#total fraud cases 662\n",
    "FileNameList2=list(dict.fromkeys(FileNameList))\n",
    "len(FileNameList2)"
   ]
  },
  {
   "cell_type": "code",
   "execution_count": 14,
   "metadata": {},
   "outputs": [],
   "source": [
    "def Diff(li1, li2): \n",
    "    return (list(set(li1) - set(li2)))"
   ]
  },
  {
   "cell_type": "code",
   "execution_count": 15,
   "metadata": {
    "scrolled": true
   },
   "outputs": [
    {
     "data": {
      "text/plain": [
       "['edgar/data/355356/0001193125-11-276829.txt',\n",
       " 'edgar/data/914712/0001193125-11-271739.txt',\n",
       " 'edgar/data/1110783/0000950123-11-098240.txt',\n",
       " 'edgar/data/40570/0001140361-11-059150.txt',\n",
       " 'edgar/data/880446/0001047469-11-009945.txt',\n",
       " 'edgar/data/1175680/0001193125-11-295429.txt',\n",
       " 'edgar/data/857005/0001193125-11-320097.txt',\n",
       " 'edgar/data/913760/0000913760-11-000012.txt']"
      ]
     },
     "execution_count": 15,
     "metadata": {},
     "output_type": "execute_result"
    }
   ],
   "source": [
    "NotFoundList=Diff(FileNameList,Df3urlList )\n",
    "NotFoundList"
   ]
  },
  {
   "cell_type": "code",
   "execution_count": 16,
   "metadata": {},
   "outputs": [
    {
     "data": {
      "text/plain": [
       "8"
      ]
     },
     "execution_count": 16,
     "metadata": {},
     "output_type": "execute_result"
    }
   ],
   "source": [
    "len(NotFoundList)"
   ]
  },
  {
   "cell_type": "code",
   "execution_count": null,
   "metadata": {},
   "outputs": [],
   "source": [
    "#secfname are unique!! single identifier based on which we can merge all othe rcolumns"
   ]
  },
  {
   "cell_type": "code",
   "execution_count": 47,
   "metadata": {},
   "outputs": [],
   "source": [
    "duplicateRowsdf3=df3[df3.duplicated([4])]"
   ]
  },
  {
   "cell_type": "code",
   "execution_count": 48,
   "metadata": {},
   "outputs": [
    {
     "name": "stdout",
     "output_type": "stream",
     "text": [
      "Duplicate Rows except first occurrence based on all columns are :\n",
      "Empty DataFrame\n",
      "Columns: [0, 1, 2, 3, 4]\n",
      "Index: []\n"
     ]
    }
   ],
   "source": [
    "print(\"Duplicate Rows except first occurrence based on all columns are :\")\n",
    "print(duplicateRowsdf3)"
   ]
  },
  {
   "cell_type": "code",
   "execution_count": 17,
   "metadata": {},
   "outputs": [
    {
     "data": {
      "text/plain": [
       "(187869, 5)"
      ]
     },
     "execution_count": 17,
     "metadata": {},
     "output_type": "execute_result"
    }
   ],
   "source": [
    "df2.shape"
   ]
  },
  {
   "cell_type": "code",
   "execution_count": null,
   "metadata": {},
   "outputs": [],
   "source": []
  },
  {
   "cell_type": "code",
   "execution_count": 18,
   "metadata": {},
   "outputs": [],
   "source": [
    "#additional Fraud DataSet\n",
    "df4=pd.read_csv('/Volumes/Elements/MasterThesis/Thesis/DataSheets/FraudCases2.csv', sep=',')"
   ]
  },
  {
   "cell_type": "code",
   "execution_count": 19,
   "metadata": {},
   "outputs": [
    {
     "data": {
      "text/html": [
       "<div>\n",
       "<style scoped>\n",
       "    .dataframe tbody tr th:only-of-type {\n",
       "        vertical-align: middle;\n",
       "    }\n",
       "\n",
       "    .dataframe tbody tr th {\n",
       "        vertical-align: top;\n",
       "    }\n",
       "\n",
       "    .dataframe thead th {\n",
       "        text-align: right;\n",
       "    }\n",
       "</style>\n",
       "<table border=\"1\" class=\"dataframe\">\n",
       "  <thead>\n",
       "    <tr style=\"text-align: right;\">\n",
       "      <th></th>\n",
       "      <th>Company</th>\n",
       "      <th>Year</th>\n",
       "      <th>url</th>\n",
       "      <th>3</th>\n",
       "      <th>4</th>\n",
       "      <th>5</th>\n",
       "      <th>6</th>\n",
       "      <th>7</th>\n",
       "      <th>8</th>\n",
       "      <th>9</th>\n",
       "    </tr>\n",
       "  </thead>\n",
       "  <tbody>\n",
       "    <tr>\n",
       "      <th>0</th>\n",
       "      <td>Uni-Pixel</td>\n",
       "      <td>2013</td>\n",
       "      <td>edgar/data/1171012/0001185185-13-000386.txt</td>\n",
       "      <td>NaN</td>\n",
       "      <td>NaN</td>\n",
       "      <td>NaN</td>\n",
       "      <td>NaN</td>\n",
       "      <td>NaN</td>\n",
       "      <td>NaN</td>\n",
       "      <td>NaN</td>\n",
       "    </tr>\n",
       "    <tr>\n",
       "      <th>1</th>\n",
       "      <td>Uni-Pixel</td>\n",
       "      <td>2014</td>\n",
       "      <td>edgar/data/1171012/0001185185-14-000424.txt</td>\n",
       "      <td>NaN</td>\n",
       "      <td>NaN</td>\n",
       "      <td>NaN</td>\n",
       "      <td>NaN</td>\n",
       "      <td>NaN</td>\n",
       "      <td>NaN</td>\n",
       "      <td>NaN</td>\n",
       "    </tr>\n",
       "    <tr>\n",
       "      <th>2</th>\n",
       "      <td>om group inc</td>\n",
       "      <td>2002</td>\n",
       "      <td>edgar/data/899723/0000950152-02-002583.txt</td>\n",
       "      <td>NaN</td>\n",
       "      <td>NaN</td>\n",
       "      <td>NaN</td>\n",
       "      <td>NaN</td>\n",
       "      <td>NaN</td>\n",
       "      <td>NaN</td>\n",
       "      <td>NaN</td>\n",
       "    </tr>\n",
       "    <tr>\n",
       "      <th>3</th>\n",
       "      <td>om group inc</td>\n",
       "      <td>2003</td>\n",
       "      <td>edgar/data/899723/0000950152-03-003357.txt</td>\n",
       "      <td>NaN</td>\n",
       "      <td>NaN</td>\n",
       "      <td>NaN</td>\n",
       "      <td>NaN</td>\n",
       "      <td>NaN</td>\n",
       "      <td>NaN</td>\n",
       "      <td>NaN</td>\n",
       "    </tr>\n",
       "    <tr>\n",
       "      <th>4</th>\n",
       "      <td>SMF Energy Corp</td>\n",
       "      <td>2011</td>\n",
       "      <td>edgar/data/1024452/0001144204-11-055366.txt</td>\n",
       "      <td>NaN</td>\n",
       "      <td>NaN</td>\n",
       "      <td>NaN</td>\n",
       "      <td>NaN</td>\n",
       "      <td>NaN</td>\n",
       "      <td>NaN</td>\n",
       "      <td>NaN</td>\n",
       "    </tr>\n",
       "  </tbody>\n",
       "</table>\n",
       "</div>"
      ],
      "text/plain": [
       "           Company  Year                                          url   3   4  \\\n",
       "0        Uni-Pixel  2013  edgar/data/1171012/0001185185-13-000386.txt NaN NaN   \n",
       "1        Uni-Pixel  2014  edgar/data/1171012/0001185185-14-000424.txt NaN NaN   \n",
       "2     om group inc  2002   edgar/data/899723/0000950152-02-002583.txt NaN NaN   \n",
       "3     om group inc  2003   edgar/data/899723/0000950152-03-003357.txt NaN NaN   \n",
       "4  SMF Energy Corp  2011  edgar/data/1024452/0001144204-11-055366.txt NaN NaN   \n",
       "\n",
       "     5    6   7    8    9  \n",
       "0  NaN  NaN NaN  NaN  NaN  \n",
       "1  NaN  NaN NaN  NaN  NaN  \n",
       "2  NaN  NaN NaN  NaN  NaN  \n",
       "3  NaN  NaN NaN  NaN  NaN  \n",
       "4  NaN  NaN NaN  NaN  NaN  "
      ]
     },
     "execution_count": 19,
     "metadata": {},
     "output_type": "execute_result"
    }
   ],
   "source": [
    "df1=df1.rename(columns={0:\"Company\", 1:\"Year\", 2:\"url\"})\n",
    "df1.head()"
   ]
  },
  {
   "cell_type": "code",
   "execution_count": 20,
   "metadata": {},
   "outputs": [],
   "source": [
    "df4.head()\n",
    "col_list=['Company','Year','Filename']"
   ]
  },
  {
   "cell_type": "code",
   "execution_count": 21,
   "metadata": {},
   "outputs": [
    {
     "data": {
      "text/plain": [
       "(403, 3)"
      ]
     },
     "execution_count": 21,
     "metadata": {},
     "output_type": "execute_result"
    }
   ],
   "source": [
    "df4.shape"
   ]
  },
  {
   "cell_type": "code",
   "execution_count": 22,
   "metadata": {},
   "outputs": [],
   "source": [
    "df4=df4.reindex(columns=col_list)"
   ]
  },
  {
   "cell_type": "code",
   "execution_count": 23,
   "metadata": {},
   "outputs": [
    {
     "data": {
      "text/html": [
       "<div>\n",
       "<style scoped>\n",
       "    .dataframe tbody tr th:only-of-type {\n",
       "        vertical-align: middle;\n",
       "    }\n",
       "\n",
       "    .dataframe tbody tr th {\n",
       "        vertical-align: top;\n",
       "    }\n",
       "\n",
       "    .dataframe thead th {\n",
       "        text-align: right;\n",
       "    }\n",
       "</style>\n",
       "<table border=\"1\" class=\"dataframe\">\n",
       "  <thead>\n",
       "    <tr style=\"text-align: right;\">\n",
       "      <th></th>\n",
       "      <th>Company</th>\n",
       "      <th>Year</th>\n",
       "      <th>Filename</th>\n",
       "    </tr>\n",
       "  </thead>\n",
       "  <tbody>\n",
       "    <tr>\n",
       "      <th>0</th>\n",
       "      <td>Adelphia</td>\n",
       "      <td>1999</td>\n",
       "      <td>Adelphia_1999_10K.txt</td>\n",
       "    </tr>\n",
       "    <tr>\n",
       "      <th>1</th>\n",
       "      <td>Adelphia</td>\n",
       "      <td>2000</td>\n",
       "      <td>Adelphia_2000_10K.txt</td>\n",
       "    </tr>\n",
       "    <tr>\n",
       "      <th>2</th>\n",
       "      <td>Advanced marketing services</td>\n",
       "      <td>2001</td>\n",
       "      <td>AdvancedMarketingServices_2001_10K.txt</td>\n",
       "    </tr>\n",
       "    <tr>\n",
       "      <th>3</th>\n",
       "      <td>Advanced marketing services</td>\n",
       "      <td>2002</td>\n",
       "      <td>AdvancedMarketingServices_2002_10K.txt</td>\n",
       "    </tr>\n",
       "    <tr>\n",
       "      <th>4</th>\n",
       "      <td>Advanced marketing services</td>\n",
       "      <td>2003</td>\n",
       "      <td>AdvancedMarketingServices_2003_10K.txt</td>\n",
       "    </tr>\n",
       "  </tbody>\n",
       "</table>\n",
       "</div>"
      ],
      "text/plain": [
       "                       Company  Year                                Filename\n",
       "0                     Adelphia  1999                   Adelphia_1999_10K.txt\n",
       "1                     Adelphia  2000                   Adelphia_2000_10K.txt\n",
       "2  Advanced marketing services  2001  AdvancedMarketingServices_2001_10K.txt\n",
       "3  Advanced marketing services  2002  AdvancedMarketingServices_2002_10K.txt\n",
       "4  Advanced marketing services  2003  AdvancedMarketingServices_2003_10K.txt"
      ]
     },
     "execution_count": 23,
     "metadata": {},
     "output_type": "execute_result"
    }
   ],
   "source": [
    "df4.head()"
   ]
  },
  {
   "cell_type": "code",
   "execution_count": null,
   "metadata": {},
   "outputs": [],
   "source": [
    "def extract_secfname(path):\n",
    "    html_regex = re.compile(r'<.*?>')\n",
    "    extracted_data=[]\n",
    "    for fileName in os.listdir(path):\n",
    "            filenameopen = os.path.join(path, fileName)\n",
    "            #print(filenameopen)\n",
    "            #print(fileName)\n",
    "            resultdict = dict()\n",
    "            with open(filenameopen, 'r', encoding='utf-8', errors=\"replace\") as in_file:\n",
    "                    content = in_file.read()\n",
    "                    content = re.sub(html_regex,'',content)\n",
    "                    content = content.replace('&nbsp;','')\n",
    "                    content = re.sub(r'&#\\d+;', '', content)\n",
    "                    \n",
    "                    matches_CIK_regex = re.findall(\"CENTRAL INDEX KEY:\\t\\t.*?^\\n*\", content, re.IGNORECASE | re.DOTALL | re.MULTILINE)\n",
    "                    if matches_CIK_regex:\n",
    "                        #print(matches_secfname )\n",
    "                        result = max(matches_CIK_regex, key=len)\n",
    "                        result = str(result).replace('\\n', '')\n",
    "                        result = str(result).replace('\\t', '')\n",
    "                        result = str(result).replace('CENTRAL INDEX KEY:', '')\n",
    "                        result =str(int(str(result)))\n",
    "                        resultdict['CIK'] = result\n",
    "                    else:\n",
    "                         resultdict['CIK'] = \"\"\n",
    "                    \n",
    "                    matches_coname_regex = re.findall(\"COMPANY CONFORMED NAME:\\t\\t.*?^\\n*\", content, re.IGNORECASE | re.DOTALL | re.MULTILINE)\n",
    "                    if matches_coname_regex:\n",
    "                        #print(matches_secfname )\n",
    "                        result = max(matches_coname_regex, key=len)\n",
    "                        result = str(result).replace('\\n', '')\n",
    "                        result = str(result).replace('\\t', '')\n",
    "                        result = str(result).replace('COMPANY CONFORMED NAME:', '')\n",
    "                        resultdict['CONAME'] = result\n",
    "                    else:\n",
    "                         resultdict['CONAME'] = \"\"\n",
    "                            \n",
    "                    matches_form = re.findall(\"FORM TYPE:\\t\\t.*?^\\n*\", content, re.IGNORECASE | re.DOTALL | re.MULTILINE)\n",
    "                    if matches_form:\n",
    "                        #print(matches_secfname )\n",
    "                        result = max(matches_form, key=len)\n",
    "                        result = str(result).replace('\\n', '')\n",
    "                        result = str(result).replace('\\t', '')\n",
    "                        result = str(result).replace('FORM TYPE:', '')\n",
    "                        resultdict['FORM'] = result\n",
    "                    else:\n",
    "                         resultdict['FORM'] = \"\"\n",
    "        \n",
    "                    matches_accnbr = re.findall(\"ACCESSION NUMBER:\\t\\t.*?^\\n*\", content, re.IGNORECASE | re.DOTALL | re.MULTILINE)\n",
    "                    if matches_accnbr:\n",
    "                        #print(matches_secfname )\n",
    "                        result = max(matches_accnbr, key=len)\n",
    "                        result = str(result).replace('\\n', '')\n",
    "                        result = str(result).replace('\\t', '')\n",
    "                        result = str(result).replace('ACCESSION NUMBER:', '')\n",
    "                        #contrsucting SECFNAME from CIK and accnbr stored in result\n",
    "                        resultdict['SECFNAME'] = \"edgar/data/\"+resultdict['CIK']+\"/\"+ result +\".txt\"\n",
    "                    else:\n",
    "                         resultdict['SECFNAME'] = \"\"\n",
    "                                \n",
    "                    \n",
    "                    extracted_data.append(resultdict)\n",
    "                \n",
    "            in_file.close()\n",
    "    return extracted_data"
   ]
  },
  {
   "cell_type": "code",
   "execution_count": null,
   "metadata": {},
   "outputs": [],
   "source": [
    "#Extract SEC Filename from the whole Fraud Cases FOlder \n",
    "path4=\"/Volumes/Elements/MasterThesis/sec/Fraud2\"\n",
    "DictList2=extract_secfname(path4)\n",
    "#List of all SECFnames\n",
    "SECFNAME_list=[d[\"SECFNAME\"] for d in DictList2]\n",
    "print(len(DictList2))"
   ]
  },
  {
   "cell_type": "code",
   "execution_count": 136,
   "metadata": {},
   "outputs": [
    {
     "data": {
      "text/plain": [
       "403"
      ]
     },
     "execution_count": 136,
     "metadata": {},
     "output_type": "execute_result"
    }
   ],
   "source": [
    "len(SECFNAME_list)"
   ]
  },
  {
   "cell_type": "code",
   "execution_count": 128,
   "metadata": {},
   "outputs": [],
   "source": [
    "FORM10k_list=[d[\"FORM\"] for d in DictList2]"
   ]
  },
  {
   "cell_type": "code",
   "execution_count": 130,
   "metadata": {},
   "outputs": [
    {
     "name": "stdout",
     "output_type": "stream",
     "text": [
      "256\n",
      "40\n",
      "50\n",
      "23\n"
     ]
    }
   ],
   "source": [
    "FORM10k_list=[d for d in DictList2 if d[\"FORM\"]==\"10-K\" ]\n",
    "print(len(FORM10k_list))\n",
    "FORM10ksb_list=[d for d in DictList2 if d[\"FORM\"]==\"10KSB\" ]\n",
    "print(len(FORM10ksb_list))\n",
    "FORM10k405_list=[d for d in DictList2 if d[\"FORM\"]==\"10-K405\" ]\n",
    "print(len(FORM10k405_list))\n",
    "FORM20F_list=[d for d in DictList2 if d[\"FORM\"]==\"20-F\" ]\n",
    "print(len(FORM20F_list))"
   ]
  },
  {
   "cell_type": "code",
   "execution_count": 106,
   "metadata": {},
   "outputs": [
    {
     "name": "stdout",
     "output_type": "stream",
     "text": [
      "403\n"
     ]
    }
   ],
   "source": [
    "#Fraud2 Cases \n",
    "print(len(DictList2))"
   ]
  },
  {
   "cell_type": "code",
   "execution_count": 107,
   "metadata": {
    "scrolled": true
   },
   "outputs": [
    {
     "data": {
      "text/html": [
       "<div>\n",
       "<style scoped>\n",
       "    .dataframe tbody tr th:only-of-type {\n",
       "        vertical-align: middle;\n",
       "    }\n",
       "\n",
       "    .dataframe tbody tr th {\n",
       "        vertical-align: top;\n",
       "    }\n",
       "\n",
       "    .dataframe thead th {\n",
       "        text-align: right;\n",
       "    }\n",
       "</style>\n",
       "<table border=\"1\" class=\"dataframe\">\n",
       "  <thead>\n",
       "    <tr style=\"text-align: right;\">\n",
       "      <th></th>\n",
       "      <th>CIK</th>\n",
       "      <th>CONAME</th>\n",
       "      <th>FORM</th>\n",
       "      <th>SECFNAME</th>\n",
       "    </tr>\n",
       "  </thead>\n",
       "  <tbody>\n",
       "    <tr>\n",
       "      <th>0</th>\n",
       "      <td>5272</td>\n",
       "      <td>AMERICAN INTERNATIONAL GROUP INC</td>\n",
       "      <td>10-K</td>\n",
       "      <td>edgar/data/5272/0000950123-01-002952.txt</td>\n",
       "    </tr>\n",
       "    <tr>\n",
       "      <th>1</th>\n",
       "      <td>5272</td>\n",
       "      <td>AMERICAN INTERNATIONAL GROUP INC</td>\n",
       "      <td>10-K</td>\n",
       "      <td>edgar/data/5272/0000950123-02-003222.txt</td>\n",
       "    </tr>\n",
       "    <tr>\n",
       "      <th>2</th>\n",
       "      <td>796486</td>\n",
       "      <td>ADELPHIA COMMUNICATIONS CORP</td>\n",
       "      <td>10-K</td>\n",
       "      <td>edgar/data/796486/0000796486-00-000008.txt</td>\n",
       "    </tr>\n",
       "    <tr>\n",
       "      <th>3</th>\n",
       "      <td>796486</td>\n",
       "      <td>ADELPHIA COMMUNICATIONS CORP</td>\n",
       "      <td>10-K</td>\n",
       "      <td>edgar/data/796486/0000796486-01-000012.txt</td>\n",
       "    </tr>\n",
       "    <tr>\n",
       "      <th>4</th>\n",
       "      <td>814580</td>\n",
       "      <td>ADVANCED MARKETING SERVICES INC</td>\n",
       "      <td>10-K</td>\n",
       "      <td>edgar/data/814580/0001095811-01-503019.txt</td>\n",
       "    </tr>\n",
       "  </tbody>\n",
       "</table>\n",
       "</div>"
      ],
      "text/plain": [
       "      CIK                            CONAME  FORM  \\\n",
       "0    5272  AMERICAN INTERNATIONAL GROUP INC  10-K   \n",
       "1    5272  AMERICAN INTERNATIONAL GROUP INC  10-K   \n",
       "2  796486      ADELPHIA COMMUNICATIONS CORP  10-K   \n",
       "3  796486      ADELPHIA COMMUNICATIONS CORP  10-K   \n",
       "4  814580   ADVANCED MARKETING SERVICES INC  10-K   \n",
       "\n",
       "                                     SECFNAME  \n",
       "0    edgar/data/5272/0000950123-01-002952.txt  \n",
       "1    edgar/data/5272/0000950123-02-003222.txt  \n",
       "2  edgar/data/796486/0000796486-00-000008.txt  \n",
       "3  edgar/data/796486/0000796486-01-000012.txt  \n",
       "4  edgar/data/814580/0001095811-01-503019.txt  "
      ]
     },
     "execution_count": 107,
     "metadata": {},
     "output_type": "execute_result"
    }
   ],
   "source": [
    "dfFraud2 = pd.DataFrame(DictList2)\n",
    "dfFraud2.head()"
   ]
  },
  {
   "cell_type": "code",
   "execution_count": 192,
   "metadata": {},
   "outputs": [
    {
     "data": {
      "text/html": [
       "<div>\n",
       "<style scoped>\n",
       "    .dataframe tbody tr th:only-of-type {\n",
       "        vertical-align: middle;\n",
       "    }\n",
       "\n",
       "    .dataframe tbody tr th {\n",
       "        vertical-align: top;\n",
       "    }\n",
       "\n",
       "    .dataframe thead th {\n",
       "        text-align: right;\n",
       "    }\n",
       "</style>\n",
       "<table border=\"1\" class=\"dataframe\">\n",
       "  <thead>\n",
       "    <tr style=\"text-align: right;\">\n",
       "      <th></th>\n",
       "      <th>CIK</th>\n",
       "      <th>CONAME</th>\n",
       "      <th>SECFNAME</th>\n",
       "    </tr>\n",
       "    <tr>\n",
       "      <th>FORM</th>\n",
       "      <th></th>\n",
       "      <th></th>\n",
       "      <th></th>\n",
       "    </tr>\n",
       "  </thead>\n",
       "  <tbody>\n",
       "    <tr>\n",
       "      <th></th>\n",
       "      <td>33</td>\n",
       "      <td>33</td>\n",
       "      <td>33</td>\n",
       "    </tr>\n",
       "    <tr>\n",
       "      <th>10-K</th>\n",
       "      <td>256</td>\n",
       "      <td>256</td>\n",
       "      <td>256</td>\n",
       "    </tr>\n",
       "    <tr>\n",
       "      <th>10-K405</th>\n",
       "      <td>50</td>\n",
       "      <td>50</td>\n",
       "      <td>50</td>\n",
       "    </tr>\n",
       "    <tr>\n",
       "      <th>10KSB</th>\n",
       "      <td>40</td>\n",
       "      <td>40</td>\n",
       "      <td>40</td>\n",
       "    </tr>\n",
       "    <tr>\n",
       "      <th>10KSB40</th>\n",
       "      <td>1</td>\n",
       "      <td>1</td>\n",
       "      <td>1</td>\n",
       "    </tr>\n",
       "    <tr>\n",
       "      <th>20-F</th>\n",
       "      <td>23</td>\n",
       "      <td>23</td>\n",
       "      <td>23</td>\n",
       "    </tr>\n",
       "  </tbody>\n",
       "</table>\n",
       "</div>"
      ],
      "text/plain": [
       "         CIK  CONAME  SECFNAME\n",
       "FORM                          \n",
       "          33      33        33\n",
       "10-K     256     256       256\n",
       "10-K405   50      50        50\n",
       "10KSB     40      40        40\n",
       "10KSB40    1       1         1\n",
       "20-F      23      23        23"
      ]
     },
     "execution_count": 192,
     "metadata": {},
     "output_type": "execute_result"
    }
   ],
   "source": [
    "dfFraud2.groupby(\"FORM\").count()\n",
    "#33 Fraud Cases in Fraud2 Folder are empty rows, meaning there are no 10k or 20F Files"
   ]
  },
  {
   "cell_type": "code",
   "execution_count": 111,
   "metadata": {},
   "outputs": [
    {
     "data": {
      "text/plain": [
       "(403, 4)"
      ]
     },
     "execution_count": 111,
     "metadata": {},
     "output_type": "execute_result"
    }
   ],
   "source": [
    "dfFraud2.shape"
   ]
  },
  {
   "cell_type": "code",
   "execution_count": 159,
   "metadata": {},
   "outputs": [],
   "source": [
    "dfFraud2_10k=dfFraud2[dfFraud2['FORM']==\"10-K\"]"
   ]
  },
  {
   "cell_type": "code",
   "execution_count": 160,
   "metadata": {},
   "outputs": [
    {
     "data": {
      "text/plain": [
       "(256, 4)"
      ]
     },
     "execution_count": 160,
     "metadata": {},
     "output_type": "execute_result"
    }
   ],
   "source": [
    "dfFraud2_10k.shape"
   ]
  },
  {
   "cell_type": "code",
   "execution_count": 161,
   "metadata": {},
   "outputs": [],
   "source": [
    "SECFnameFraud2_10kList=dfFraud2_10k[\"SECFNAME\"].tolist()"
   ]
  },
  {
   "cell_type": "code",
   "execution_count": 117,
   "metadata": {},
   "outputs": [
    {
     "data": {
      "text/plain": [
       "{'CIK': '5272',\n",
       " 'CONAME': 'AMERICAN INTERNATIONAL GROUP INC',\n",
       " 'FORM': '10-K',\n",
       " 'SECFNAME': 'edgar/data/5272/0000950123-02-003222.txt'}"
      ]
     },
     "execution_count": 117,
     "metadata": {},
     "output_type": "execute_result"
    }
   ],
   "source": [
    "DictList2[1]"
   ]
  },
  {
   "cell_type": "code",
   "execution_count": 132,
   "metadata": {},
   "outputs": [
    {
     "data": {
      "text/plain": [
       "(187869, 5)"
      ]
     },
     "execution_count": 132,
     "metadata": {},
     "output_type": "execute_result"
    }
   ],
   "source": [
    "df2.shape"
   ]
  },
  {
   "cell_type": "code",
   "execution_count": 141,
   "metadata": {},
   "outputs": [
    {
     "data": {
      "text/html": [
       "<div>\n",
       "<style scoped>\n",
       "    .dataframe tbody tr th:only-of-type {\n",
       "        vertical-align: middle;\n",
       "    }\n",
       "\n",
       "    .dataframe tbody tr th {\n",
       "        vertical-align: top;\n",
       "    }\n",
       "\n",
       "    .dataframe thead th {\n",
       "        text-align: right;\n",
       "    }\n",
       "</style>\n",
       "<table border=\"1\" class=\"dataframe\">\n",
       "  <thead>\n",
       "    <tr style=\"text-align: right;\">\n",
       "      <th></th>\n",
       "      <th>0</th>\n",
       "      <th>1</th>\n",
       "      <th>2</th>\n",
       "      <th>3</th>\n",
       "      <th>4</th>\n",
       "    </tr>\n",
       "  </thead>\n",
       "  <tbody>\n",
       "    <tr>\n",
       "      <th>26760</th>\n",
       "      <td>10-K</td>\n",
       "      <td>COMPUTER ASSOCIATES INTERNATIONAL INC</td>\n",
       "      <td>356028</td>\n",
       "      <td>1999-05-28</td>\n",
       "      <td>edgar/data/356028/0000356028-99-000024.txt</td>\n",
       "    </tr>\n",
       "    <tr>\n",
       "      <th>27679</th>\n",
       "      <td>10-K</td>\n",
       "      <td>ASTHMA DISEASE MANAGEMENT INC</td>\n",
       "      <td>774746</td>\n",
       "      <td>1999-08-09</td>\n",
       "      <td>edgar/data/774746/0000774746-99-000009.txt</td>\n",
       "    </tr>\n",
       "    <tr>\n",
       "      <th>27782</th>\n",
       "      <td>10-K</td>\n",
       "      <td>DCI TELECOMMUNICATIONS INC</td>\n",
       "      <td>769852</td>\n",
       "      <td>1999-07-01</td>\n",
       "      <td>edgar/data/769852/0000769852-99-000018.txt</td>\n",
       "    </tr>\n",
       "    <tr>\n",
       "      <th>27798</th>\n",
       "      <td>10-K</td>\n",
       "      <td>DT INDUSTRIES INC</td>\n",
       "      <td>918999</td>\n",
       "      <td>1999-09-27</td>\n",
       "      <td>edgar/data/918999/0001014858-99-000065.txt</td>\n",
       "    </tr>\n",
       "    <tr>\n",
       "      <th>28140</th>\n",
       "      <td>10-K</td>\n",
       "      <td>SUPREMA SPECIALTIES INC</td>\n",
       "      <td>872867</td>\n",
       "      <td>1999-09-09</td>\n",
       "      <td>edgar/data/872867/0000891554-99-001776.txt</td>\n",
       "    </tr>\n",
       "  </tbody>\n",
       "</table>\n",
       "</div>"
      ],
      "text/plain": [
       "          0                                      1       2           3  \\\n",
       "26760  10-K  COMPUTER ASSOCIATES INTERNATIONAL INC  356028  1999-05-28   \n",
       "27679  10-K          ASTHMA DISEASE MANAGEMENT INC  774746  1999-08-09   \n",
       "27782  10-K             DCI TELECOMMUNICATIONS INC  769852  1999-07-01   \n",
       "27798  10-K                      DT INDUSTRIES INC  918999  1999-09-27   \n",
       "28140  10-K                SUPREMA SPECIALTIES INC  872867  1999-09-09   \n",
       "\n",
       "                                                4  \n",
       "26760  edgar/data/356028/0000356028-99-000024.txt  \n",
       "27679  edgar/data/774746/0000774746-99-000009.txt  \n",
       "27782  edgar/data/769852/0000769852-99-000018.txt  \n",
       "27798  edgar/data/918999/0001014858-99-000065.txt  \n",
       "28140  edgar/data/872867/0000891554-99-001776.txt  "
      ]
     },
     "execution_count": 141,
     "metadata": {},
     "output_type": "execute_result"
    }
   ],
   "source": [
    "#retrieve subset df from index10 and Fraud2 cases \n",
    "df6=df2.loc[df2[4].isin(SECFNAME_list)]\n",
    "#df6.to_csv('FraudCases9319.csv', header=False, index=False)\n",
    "df6.head()"
   ]
  },
  {
   "cell_type": "code",
   "execution_count": 142,
   "metadata": {},
   "outputs": [
    {
     "data": {
      "text/plain": [
       "(255, 5)"
      ]
     },
     "execution_count": 142,
     "metadata": {},
     "output_type": "execute_result"
    }
   ],
   "source": [
    "df6.shape\n",
    "#255Fraud Cases of the Fraud2 Folder were found in the IndexList1993-12019 of all 10k sec filed "
   ]
  },
  {
   "cell_type": "code",
   "execution_count": 173,
   "metadata": {},
   "outputs": [
    {
     "data": {
      "text/plain": [
       "403"
      ]
     },
     "execution_count": 173,
     "metadata": {},
     "output_type": "execute_result"
    }
   ],
   "source": [
    "len(SECFNAME_list)"
   ]
  },
  {
   "cell_type": "code",
   "execution_count": 145,
   "metadata": {},
   "outputs": [
    {
     "data": {
      "text/plain": [
       "255"
      ]
     },
     "execution_count": 145,
     "metadata": {},
     "output_type": "execute_result"
    }
   ],
   "source": [
    "#secfname List that are mached in 10kindex and in the Fraud2 Folder \n",
    "Fraud2_IndexList=df6[4].tolist()\n",
    "len(Fraud2_IndexList)"
   ]
  },
  {
   "cell_type": "code",
   "execution_count": 177,
   "metadata": {},
   "outputs": [
    {
     "data": {
      "text/plain": [
       "255"
      ]
     },
     "execution_count": 177,
     "metadata": {},
     "output_type": "execute_result"
    }
   ],
   "source": [
    "len(df6[4].tolist())\n",
    "removeduplicate = list( dict.fromkeys(df6[4].tolist()))\n",
    "len(removeduplicate)\n",
    "#No Duplicates in df6.tolist"
   ]
  },
  {
   "cell_type": "code",
   "execution_count": 178,
   "metadata": {},
   "outputs": [
    {
     "data": {
      "text/plain": [
       "403"
      ]
     },
     "execution_count": 178,
     "metadata": {},
     "output_type": "execute_result"
    }
   ],
   "source": [
    "len(SECFNAME_list)"
   ]
  },
  {
   "cell_type": "code",
   "execution_count": 179,
   "metadata": {},
   "outputs": [
    {
     "data": {
      "text/plain": [
       "371"
      ]
     },
     "execution_count": 179,
     "metadata": {},
     "output_type": "execute_result"
    }
   ],
   "source": [
    "removeduplicateSECFNAME_list = list( dict.fromkeys(SECFNAME_list))\n",
    "len(removeduplicateSECFNAME_list)\n",
    "#403-371 duplicates in SECFName_list"
   ]
  },
  {
   "cell_type": "code",
   "execution_count": 181,
   "metadata": {},
   "outputs": [],
   "source": [
    "DuplicatesSECFNAME_list=set([x for x in SECFNAME_list if SECFNAME_list.count(x) > 1])"
   ]
  },
  {
   "cell_type": "code",
   "execution_count": 182,
   "metadata": {},
   "outputs": [
    {
     "data": {
      "text/plain": [
       "{''}"
      ]
     },
     "execution_count": 182,
     "metadata": {},
     "output_type": "execute_result"
    }
   ],
   "source": [
    "DuplicatesSECFNAME_list"
   ]
  },
  {
   "cell_type": "code",
   "execution_count": 195,
   "metadata": {},
   "outputs": [
    {
     "data": {
      "text/plain": [
       "116"
      ]
     },
     "execution_count": 195,
     "metadata": {},
     "output_type": "execute_result"
    }
   ],
   "source": [
    "#List of all secfnames that are in the fraud2 folder but not found/Matched with 10kindex.csv\n",
    "Fraud2NOTIN10kIndexList=set(SECFNAME_list)-set(df6[4].tolist())\n",
    "len(Fraud2NOTIN10kIndexList)"
   ]
  },
  {
   "cell_type": "code",
   "execution_count": 197,
   "metadata": {},
   "outputs": [],
   "source": [
    "dfFraud2_2=dfFraud2.loc[dfFraud2[\"SECFNAME\"].isin(Fraud2NOTIN10kIndexList)]"
   ]
  },
  {
   "cell_type": "code",
   "execution_count": 199,
   "metadata": {},
   "outputs": [
    {
     "data": {
      "text/plain": [
       "(148, 4)"
      ]
     },
     "execution_count": 199,
     "metadata": {},
     "output_type": "execute_result"
    }
   ],
   "source": [
    "dfFraud2_2.shape\n",
    "#148=116 plus die 33 empty secfnames"
   ]
  },
  {
   "cell_type": "code",
   "execution_count": 200,
   "metadata": {},
   "outputs": [
    {
     "data": {
      "text/html": [
       "<div>\n",
       "<style scoped>\n",
       "    .dataframe tbody tr th:only-of-type {\n",
       "        vertical-align: middle;\n",
       "    }\n",
       "\n",
       "    .dataframe tbody tr th {\n",
       "        vertical-align: top;\n",
       "    }\n",
       "\n",
       "    .dataframe thead th {\n",
       "        text-align: right;\n",
       "    }\n",
       "</style>\n",
       "<table border=\"1\" class=\"dataframe\">\n",
       "  <thead>\n",
       "    <tr style=\"text-align: right;\">\n",
       "      <th></th>\n",
       "      <th>CIK</th>\n",
       "      <th>CONAME</th>\n",
       "      <th>SECFNAME</th>\n",
       "    </tr>\n",
       "    <tr>\n",
       "      <th>FORM</th>\n",
       "      <th></th>\n",
       "      <th></th>\n",
       "      <th></th>\n",
       "    </tr>\n",
       "  </thead>\n",
       "  <tbody>\n",
       "    <tr>\n",
       "      <th></th>\n",
       "      <td>33</td>\n",
       "      <td>33</td>\n",
       "      <td>33</td>\n",
       "    </tr>\n",
       "    <tr>\n",
       "      <th>10-K</th>\n",
       "      <td>1</td>\n",
       "      <td>1</td>\n",
       "      <td>1</td>\n",
       "    </tr>\n",
       "    <tr>\n",
       "      <th>10-K405</th>\n",
       "      <td>50</td>\n",
       "      <td>50</td>\n",
       "      <td>50</td>\n",
       "    </tr>\n",
       "    <tr>\n",
       "      <th>10KSB</th>\n",
       "      <td>40</td>\n",
       "      <td>40</td>\n",
       "      <td>40</td>\n",
       "    </tr>\n",
       "    <tr>\n",
       "      <th>10KSB40</th>\n",
       "      <td>1</td>\n",
       "      <td>1</td>\n",
       "      <td>1</td>\n",
       "    </tr>\n",
       "    <tr>\n",
       "      <th>20-F</th>\n",
       "      <td>23</td>\n",
       "      <td>23</td>\n",
       "      <td>23</td>\n",
       "    </tr>\n",
       "  </tbody>\n",
       "</table>\n",
       "</div>"
      ],
      "text/plain": [
       "         CIK  CONAME  SECFNAME\n",
       "FORM                          \n",
       "          33      33        33\n",
       "10-K       1       1         1\n",
       "10-K405   50      50        50\n",
       "10KSB     40      40        40\n",
       "10KSB40    1       1         1\n",
       "20-F      23      23        23"
      ]
     },
     "execution_count": 200,
     "metadata": {},
     "output_type": "execute_result"
    }
   ],
   "source": [
    "#this showes that all of the 10k Forms except from one in the Fraud2 Folder was found iin the index10.List\n",
    "#the other documents are non 10k documents and teh questions is wether they are still to be included in teh Fraud Data Set\n",
    "#also a question is wether we can include the 10F cases and were the 33 non Forms come from\n",
    "dfFraud2_2.groupby(\"FORM\").count()"
   ]
  },
  {
   "cell_type": "code",
   "execution_count": 217,
   "metadata": {},
   "outputs": [
    {
     "name": "stdout",
     "output_type": "stream",
     "text": [
      "136\n",
      "119\n"
     ]
    }
   ],
   "source": [
    "#Compare Fraud2 10ks with Meiruts 10Ks Fraud cases\n",
    "#files that are in  Fraud2 Folder that are not found by Meirut/me are 119 cases\n",
    "#Files that are in Meiruts AND Fraud2 Cases are 136\n",
    "intersectionFraud2Meirut=set(Fraud2_IndexList)&set(Df3urlList)\n",
    "additionalFraudList=set(Fraud2_IndexList)-set(Df3urlList)\n",
    "#files that are in Fraud2 Folder that are not found by Meirut/me are 119 cases\n",
    "print(len(intersectionFraud2Meirut))\n",
    "print(len(additionalFraudList))\n",
    "\n"
   ]
  },
  {
   "cell_type": "code",
   "execution_count": 211,
   "metadata": {},
   "outputs": [
    {
     "data": {
      "text/plain": [
       "654"
      ]
     },
     "execution_count": 211,
     "metadata": {},
     "output_type": "execute_result"
    }
   ],
   "source": [
    "removeduplicatesDf3urlList=list(dict.fromkeys(Df3urlList))\n",
    "len(removeduplicatesDf3urlList)\n",
    "#no duplicates in Df3urlList"
   ]
  },
  {
   "cell_type": "code",
   "execution_count": 218,
   "metadata": {},
   "outputs": [],
   "source": [
    "df7=df2.loc[df2[4].isin(additionalFraudList)]"
   ]
  },
  {
   "cell_type": "code",
   "execution_count": 224,
   "metadata": {},
   "outputs": [
    {
     "data": {
      "text/html": [
       "<div>\n",
       "<style scoped>\n",
       "    .dataframe tbody tr th:only-of-type {\n",
       "        vertical-align: middle;\n",
       "    }\n",
       "\n",
       "    .dataframe tbody tr th {\n",
       "        vertical-align: top;\n",
       "    }\n",
       "\n",
       "    .dataframe thead th {\n",
       "        text-align: right;\n",
       "    }\n",
       "</style>\n",
       "<table border=\"1\" class=\"dataframe\">\n",
       "  <thead>\n",
       "    <tr style=\"text-align: right;\">\n",
       "      <th></th>\n",
       "      <th>0</th>\n",
       "      <th>1</th>\n",
       "      <th>2</th>\n",
       "      <th>3</th>\n",
       "      <th>4</th>\n",
       "    </tr>\n",
       "  </thead>\n",
       "  <tbody>\n",
       "    <tr>\n",
       "      <th>26760</th>\n",
       "      <td>10-K</td>\n",
       "      <td>COMPUTER ASSOCIATES INTERNATIONAL INC</td>\n",
       "      <td>356028</td>\n",
       "      <td>1999-05-28</td>\n",
       "      <td>edgar/data/356028/0000356028-99-000024.txt</td>\n",
       "    </tr>\n",
       "    <tr>\n",
       "      <th>27782</th>\n",
       "      <td>10-K</td>\n",
       "      <td>DCI TELECOMMUNICATIONS INC</td>\n",
       "      <td>769852</td>\n",
       "      <td>1999-07-01</td>\n",
       "      <td>edgar/data/769852/0000769852-99-000018.txt</td>\n",
       "    </tr>\n",
       "    <tr>\n",
       "      <th>27798</th>\n",
       "      <td>10-K</td>\n",
       "      <td>DT INDUSTRIES INC</td>\n",
       "      <td>918999</td>\n",
       "      <td>1999-09-27</td>\n",
       "      <td>edgar/data/918999/0001014858-99-000065.txt</td>\n",
       "    </tr>\n",
       "    <tr>\n",
       "      <th>28140</th>\n",
       "      <td>10-K</td>\n",
       "      <td>SUPREMA SPECIALTIES INC</td>\n",
       "      <td>872867</td>\n",
       "      <td>1999-09-09</td>\n",
       "      <td>edgar/data/872867/0000891554-99-001776.txt</td>\n",
       "    </tr>\n",
       "    <tr>\n",
       "      <th>28308</th>\n",
       "      <td>10-K</td>\n",
       "      <td>BROOKS AUTOMATION INC</td>\n",
       "      <td>933974</td>\n",
       "      <td>1999-12-29</td>\n",
       "      <td>edgar/data/933974/0000950135-99-005746.txt</td>\n",
       "    </tr>\n",
       "  </tbody>\n",
       "</table>\n",
       "</div>"
      ],
      "text/plain": [
       "          0                                      1       2           3  \\\n",
       "26760  10-K  COMPUTER ASSOCIATES INTERNATIONAL INC  356028  1999-05-28   \n",
       "27782  10-K             DCI TELECOMMUNICATIONS INC  769852  1999-07-01   \n",
       "27798  10-K                      DT INDUSTRIES INC  918999  1999-09-27   \n",
       "28140  10-K                SUPREMA SPECIALTIES INC  872867  1999-09-09   \n",
       "28308  10-K                  BROOKS AUTOMATION INC  933974  1999-12-29   \n",
       "\n",
       "                                                4  \n",
       "26760  edgar/data/356028/0000356028-99-000024.txt  \n",
       "27782  edgar/data/769852/0000769852-99-000018.txt  \n",
       "27798  edgar/data/918999/0001014858-99-000065.txt  \n",
       "28140  edgar/data/872867/0000891554-99-001776.txt  \n",
       "28308  edgar/data/933974/0000950135-99-005746.txt  "
      ]
     },
     "execution_count": 224,
     "metadata": {},
     "output_type": "execute_result"
    }
   ],
   "source": [
    "df7.head()"
   ]
  },
  {
   "cell_type": "code",
   "execution_count": 223,
   "metadata": {},
   "outputs": [],
   "source": [
    "df7.to_csv('AdditionalFraud.csv', header=False, index=False)"
   ]
  },
  {
   "cell_type": "code",
   "execution_count": null,
   "metadata": {},
   "outputs": [],
   "source": [
    "#add all additional fraud cases from additionalFraudList to Fraud10k FOlder with ed.download10k function \n",
    "#results in 763 Fraud Cases 645 are from meirut hence 118 retrieved from 119 Fisettes cases "
   ]
  },
  {
   "cell_type": "code",
   "execution_count": 227,
   "metadata": {},
   "outputs": [],
   "source": [
    "dfAllFraudCases=df3.append(df7)\n",
    "dfAllFraudCases.shape\n",
    "dfAllFraudCases.to_csv('AllFraudCases.csv', header=False, index=False)"
   ]
  },
  {
   "cell_type": "code",
   "execution_count": 233,
   "metadata": {},
   "outputs": [
    {
     "data": {
      "text/plain": [
       "(773, 5)"
      ]
     },
     "execution_count": 233,
     "metadata": {},
     "output_type": "execute_result"
    }
   ],
   "source": [
    "dfAllFraudCases.shape"
   ]
  }
 ],
 "metadata": {
  "kernelspec": {
   "display_name": "Python 3",
   "language": "python",
   "name": "python3"
  },
  "language_info": {
   "codemirror_mode": {
    "name": "ipython",
    "version": 3
   },
   "file_extension": ".py",
   "mimetype": "text/x-python",
   "name": "python",
   "nbconvert_exporter": "python",
   "pygments_lexer": "ipython3",
   "version": "3.7.1"
  }
 },
 "nbformat": 4,
 "nbformat_minor": 2
}
