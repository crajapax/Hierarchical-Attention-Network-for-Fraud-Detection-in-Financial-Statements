{
 "cells": [
  {
   "cell_type": "code",
   "execution_count": 1,
   "metadata": {},
   "outputs": [
    {
     "name": "stderr",
     "output_type": "stream",
     "text": [
      "Using Theano backend.\n"
     ]
    }
   ],
   "source": [
    "import os\n",
    "os.environ[\"KERAS_BACKEND\"] = \"theano\"\n",
    "\n",
    "import csv\n",
    "import itertools\n",
    "import os\n",
    "import re\n",
    "import pandas as pd\n",
    "import numpy as np\n",
    "\n",
    "from keras.preprocessing.text import Tokenizer, text_to_word_sequence\n",
    "from keras.preprocessing.sequence import pad_sequences\n",
    "from keras.layers import Dense, Input, LSTM, Embedding, Dropout, Activation,GRU, Bidirectional, TimeDistributed, Flatten\n",
    "from keras.layers.merge import concatenate\n",
    "from keras.models import Model\n",
    "from keras.layers.normalization import BatchNormalization\n",
    "from keras import backend as K\n",
    "from keras.utils.np_utils import to_categorical\n",
    "\n",
    "from keras.engine.topology import Layer\n",
    "from keras import initializers as initializers, regularizers, constraints\n",
    "from keras.callbacks import Callback, ModelCheckpoint\n",
    "#from keras.utils.np_utils import to_cat\n",
    "\n",
    "from keras import backend as K\n",
    "from keras import optimizers\n",
    "\n",
    "\n",
    "import gensim\n",
    "from gensim.summarization.textcleaner import clean_text_by_word\n",
    "from gensim.summarization.textcleaner import clean_text_by_sentences\n",
    "from gensim.summarization.textcleaner import split_sentences\n",
    "from gensim.summarization.textcleaner import tokenize_by_word\n",
    "from gensim.summarization.textcleaner import join_words\n",
    "from gensim.models import KeyedVectors\n",
    "#upload embedding\n",
    "#from tqdm import tqdm, tnrange\n",
    "\n",
    "from sklearn.feature_extraction.text import CountVectorizer, TfidfVectorizer\n",
    "\n",
    "from sklearn.model_selection import train_test_split, StratifiedKFold\n",
    "from sklearn.preprocessing import StandardScaler, MinMaxScaler\n",
    "from sklearn.linear_model import LogisticRegression\n",
    "from sklearn.svm import SVC\n",
    "from sklearn.ensemble import RandomForestClassifier\n",
    "from sklearn.naive_bayes import MultinomialNB\n",
    "from sklearn.utils import resample\n",
    "\n",
    "\n",
    "from sklearn.feature_selection import chi2, SelectKBest, SelectFromModel\n",
    "import numpy as np\n",
    "\n",
    "from sklearn.metrics import roc_curve, auc, roc_auc_score, accuracy_score, f1_score, confusion_matrix, recall_score, precision_score\n",
    "\n",
    "from scipy.sparse import *\n",
    "from scipy.io import mmread\n",
    "import matplotlib.pyplot as plt\n",
    "from scipy import interp\n",
    "\n",
    "\n",
    "path=\"/home/RDC/crajapax/crajapax/DataCollection/SavedExports/\"\n",
    "import cloudpickle as pickle"
   ]
  },
  {
   "cell_type": "code",
   "execution_count": 2,
   "metadata": {},
   "outputs": [],
   "source": [
    "X=pd.read_csv('/home/RDC/crajapax/crajapax/DataCollection/Datasheets/XCompTextNewCopy1.csv', sep =',')"
   ]
  },
  {
   "cell_type": "code",
   "execution_count": 3,
   "metadata": {},
   "outputs": [],
   "source": [
    "path=\"/home/RDC/crajapax/crajapax/DataCollection/Results/SavedExports/\"\n",
    "import cloudpickle as pickle\n",
    "\n",
    "def save_obj(obj, name ):\n",
    "    with open(path+ name + '.pkl', 'wb') as f:\n",
    "        pickle.dump(obj, f)\n",
    "\n",
    "def load_obj(name):   \n",
    "    with open(path + name, 'rb') as f:\n",
    "        \n",
    "        return pickle.load(f)"
   ]
  },
  {
   "cell_type": "code",
   "execution_count": 4,
   "metadata": {},
   "outputs": [],
   "source": [
    "embedding_matrix=load_obj(\"embedding_matrix_lower.pkl\")\n",
    "word_index=load_obj(\"word_index_lower.pkl\")\n",
    "maxlen=38\n",
    "max_sentences=907\n",
    "embedding_dim=300\n",
    "mdas=load_obj(\"mdas_lower.pkl\")"
   ]
  },
  {
   "cell_type": "code",
   "execution_count": 5,
   "metadata": {},
   "outputs": [],
   "source": [
    "data = load_obj(\"data_lower.pkl\")\n",
    "labels = load_obj(\"labels_lower.pkl\")"
   ]
  },
  {
   "cell_type": "markdown",
   "metadata": {},
   "source": [
    "# Model Calibration"
   ]
  },
  {
   "cell_type": "code",
   "execution_count": 7,
   "metadata": {},
   "outputs": [],
   "source": [
    "import HanModelsCombi as M"
   ]
  },
  {
   "cell_type": "code",
   "execution_count": 8,
   "metadata": {},
   "outputs": [
    {
     "name": "stdout",
     "output_type": "stream",
     "text": [
      "Total:  1163\n",
      "Training:  814 , Percentage:  0.6999140154772141\n",
      "Validation:  174 , Percentage:  0.14961306964746346\n",
      "Test: 175 , Percentage:  0.15047291487532244\n"
     ]
    }
   ],
   "source": [
    "train,val,test=M.split_df(X, \"target\", 0.7, 0.15, 0.15)"
   ]
  },
  {
   "cell_type": "code",
   "execution_count": 9,
   "metadata": {
    "scrolled": true
   },
   "outputs": [],
   "source": [
    "#define train/test k for this fold\n",
    "x_train, x_test, x_val = data[train.index], data[test.index], data[val.index]\n",
    "y_train, y_test, y_val = labels[train.index], labels[test.index], labels[val.index]"
   ]
  },
  {
   "cell_type": "code",
   "execution_count": 10,
   "metadata": {},
   "outputs": [],
   "source": [
    "y_train, y_test, y_val = labels[train.index], labels[test.index], labels[val.index]"
   ]
  },
  {
   "cell_type": "code",
   "execution_count": 11,
   "metadata": {},
   "outputs": [
    {
     "name": "stdout",
     "output_type": "stream",
     "text": [
      "Number of NoFraud and Fraud MDAs in training, validation and test set\n",
      "[673. 141.]\n",
      "[144.  30.]\n",
      "[145.  30.]\n"
     ]
    }
   ],
   "source": [
    "print('Number of NoFraud and Fraud MDAs in training, validation and test set')\n",
    "print(y_train.sum(axis=0))\n",
    "print(y_val.sum(axis=0))\n",
    "print(y_test.sum(axis=0))"
   ]
  },
  {
   "cell_type": "code",
   "execution_count": 126,
   "metadata": {},
   "outputs": [],
   "source": [
    "XQ=X[['AccRec.DbtsT', 'Sales.TurnNt', 'COGS.costsgd', 'Assets.Total',\n",
    "       'CurrAssetTot', 'PPE.TotalNet', 'DeprAmortTot', 'AmrtOfIntang',\n",
    "       'SG.A.Expense', 'LT.Debt.Totl', 'CurrLiabsTot', 'Income.IBEXi',\n",
    "       'Oper.Act.NCF', 'Fin.Actv.NCF', 'Comm.OrdinEQ', 'ComSharOutst',\n",
    "       'CashSTInvest', 'InventTotQtl', 'DeferrTaxInc', 'GrProfitMarg',\n",
    "       'EBIT.Marginn', 'NtProfitMarg', 'CashFLMargin', 'ROA.finratio',\n",
    "       'ROE.RnCommEQ', 'EBITDAMargin', 'Acc.Payables', 'InventoryPrx','DSR', 'GMI', 'AQI', 'SGI', 'DEPI', 'SGAI', 'LEVI', 'ACCRUALS', 'PROBM',\n",
    "       'AverageTA', 'CFF', 'Leverage', 'dWC_Accruals', 'dReceivables',\n",
    "       'dInventories', 'dEarnings', 'dCash_Sales', 'dCash_Margin',\n",
    "       'dDef_Tax_Expense']]"
   ]
  },
  {
   "cell_type": "code",
   "execution_count": 127,
   "metadata": {},
   "outputs": [],
   "source": [
    "from sklearn.preprocessing import StandardScaler, MinMaxScaler\n",
    "#Comp Data\n",
    "#dfsubset.iloc[:, 14:78]\n",
    "#Ling Dat\n",
    "#dfsubset.iloc[:, 78:]\n",
    "#XQ is the qualitative (dense) features\n",
    "from sklearn.preprocessing import StandardScaler, MinMaxScaler\n",
    "\n",
    "#XQ=X.iloc[:, 14:].drop([\"Office\",\"Industry.Title\",\"preV2\"],axis=1)\n",
    "from numpy import float32\n",
    "XQ = XQ.astype(float32)\n",
    "XQ=XQ.replace(-np.inf,-3.0028235e+38)\n",
    "XQ=XQ.replace(np.inf,3.0028235e+38)\n",
    "sc =MinMaxScaler(copy=True,feature_range=(0,1)) \n",
    "XQ = sc.fit_transform(XQ)\n"
   ]
  },
  {
   "cell_type": "code",
   "execution_count": 128,
   "metadata": {},
   "outputs": [],
   "source": [
    "XQ_train, XQ_test, XQ_val=XQ[train.index], XQ[test.index], XQ[val.index]"
   ]
  },
  {
   "cell_type": "code",
   "execution_count": 18,
   "metadata": {},
   "outputs": [],
   "source": [
    "class AttentionLayer(Layer):\n",
    "    \"\"\"\n",
    "    Hierarchial Attention Layer as described by Hierarchical Attention Networks for Document Classification(2016)\n",
    "    - Yang et. al.\n",
    "    Source: https://www.cs.cmu.edu/~hovy/papers/16HLT-hierarchical-attention-networks.pdf\n",
    "    Theano backend\n",
    "    \"\"\"\n",
    "    def __init__(self,attention_dim=300,return_coefficients=False,**kwargs):\n",
    "        # Initializer \n",
    "        self.supports_masking = True\n",
    "        self.return_coefficients = return_coefficients\n",
    "        self.init = initializers.get('glorot_uniform') # initializes values with uniform distribution\n",
    "        self.attention_dim = attention_dim\n",
    "        super(AttentionLayer, self).__init__(**kwargs)\n",
    "\n",
    "    def build(self, input_shape):\n",
    "        # Builds all weights\n",
    "        # W = Weight matrix, b = bias vector, u = context vector\n",
    "        assert len(input_shape) == 3\n",
    "        self.W = K.variable(self.init((input_shape[-1], self.attention_dim)),name='W')\n",
    "        self.b = K.variable(self.init((self.attention_dim, )),name='b')\n",
    "        self.u = K.variable(self.init((self.attention_dim, 1)),name='u')\n",
    "        self.trainable_weights = [self.W, self.b, self.u]\n",
    "\n",
    "        super(AttentionLayer, self).build(input_shape)\n",
    "\n",
    "    def compute_mask(self, input, input_mask=None):\n",
    "        return None\n",
    "\n",
    "    def call(self, hit, mask=None):\n",
    "        # Here, the actual calculation is done\n",
    "        uit = K.bias_add(K.dot(hit, self.W),self.b)\n",
    "        uit = K.tanh(uit)\n",
    "        \n",
    "        ait = K.dot(uit, self.u)\n",
    "        ait = K.squeeze(ait, -1)\n",
    "        ait = K.exp(ait)\n",
    "        \n",
    "        if mask is not None:\n",
    "            ait *= K.cast(mask, K.floatx())\n",
    "\n",
    "        ait /= K.cast(K.sum(ait, axis=1, keepdims=True) + K.epsilon(), K.floatx())\n",
    "        ait = K.expand_dims(ait)\n",
    "        weighted_input = hit * ait\n",
    "        \n",
    "        if self.return_coefficients:\n",
    "            return [K.sum(weighted_input, axis=1), ait]\n",
    "        else:\n",
    "            return K.sum(weighted_input, axis=1)\n",
    "\n",
    "    def compute_output_shape(self, input_shape):\n",
    "        if self.return_coefficients:\n",
    "            return [(input_shape[0], input_shape[-1]), (input_shape[0], input_shape[-1], 1)]\n",
    "        else:\n",
    "            return input_shape[0], input_shape[-1]"
   ]
  },
  {
   "cell_type": "code",
   "execution_count": 19,
   "metadata": {},
   "outputs": [],
   "source": [
    "from sklearn.decomposition import PCA"
   ]
  },
  {
   "cell_type": "code",
   "execution_count": 30,
   "metadata": {
    "scrolled": true
   },
   "outputs": [
    {
     "name": "stdout",
     "output_type": "stream",
     "text": [
      "Model: \"model_3\"\n",
      "_________________________________________________________________\n",
      "Layer (type)                 Output Shape              Param #   \n",
      "=================================================================\n",
      "word_input (InputLayer)      (None, 38)                0         \n",
      "_________________________________________________________________\n",
      "word_embedding (Embedding)   (None, 38, 300)           9056100   \n",
      "_________________________________________________________________\n",
      "word_lstm (Bidirectional)    (None, 38, 100)           140400    \n",
      "_________________________________________________________________\n",
      "word_dense (Dense)           (None, 38, 100)           10100     \n",
      "_________________________________________________________________\n",
      "word_attention (AttentionLay [(None, 100), (None, 100, 30600     \n",
      "=================================================================\n",
      "Total params: 9,267,800\n",
      "Trainable params: 181,100\n",
      "Non-trainable params: 9,086,700\n",
      "_________________________________________________________________\n",
      "None\n",
      "Model: \"model_4\"\n",
      "__________________________________________________________________________________________________\n",
      "Layer (type)                    Output Shape         Param #     Connected to                     \n",
      "==================================================================================================\n",
      "sent_input (InputLayer)         (None, 907, 38)      0                                            \n",
      "__________________________________________________________________________________________________\n",
      "sent_linking (TimeDistributed)  (None, 907, 100)     9237200     sent_input[0][0]                 \n",
      "__________________________________________________________________________________________________\n",
      "sent_lstm (Bidirectional)       (None, 907, 100)     60400       sent_linking[0][0]               \n",
      "__________________________________________________________________________________________________\n",
      "sent_dense (Dense)              (None, 907, 100)     10100       sent_lstm[0][0]                  \n",
      "__________________________________________________________________________________________________\n",
      "sent_attention (AttentionLayer) [(None, 100), (None, 30600       sent_dense[0][0]                 \n",
      "__________________________________________________________________________________________________\n",
      "sent_dropout (Dropout)          (None, 100)          0           sent_attention[0][0]             \n",
      "__________________________________________________________________________________________________\n",
      "meta_input (InputLayer)         (None, 47)           0                                            \n",
      "__________________________________________________________________________________________________\n",
      "concatenate_2 (Concatenate)     (None, 147)          0           sent_dropout[0][0]               \n",
      "                                                                 meta_input[0][0]                 \n",
      "__________________________________________________________________________________________________\n",
      "dense_2 (Dense)                 (None, 6)            888         concatenate_2[0][0]              \n",
      "__________________________________________________________________________________________________\n",
      "output (Dense)                  (None, 2)            14          dense_2[0][0]                    \n",
      "==================================================================================================\n",
      "Total params: 9,400,402\n",
      "Trainable params: 283,102\n",
      "Non-trainable params: 9,117,300\n",
      "__________________________________________________________________________________________________\n",
      "None\n"
     ]
    }
   ],
   "source": [
    "\n",
    "    #Create Keras functional model for hierarchical attention network\n",
    "    \n",
    "embedding_layer = Embedding(len(word_index) + 1,embedding_dim,weights=[embedding_matrix], \n",
    "                                input_length=maxlen, trainable=False,name='word_embedding')\n",
    "\n",
    "    # Words level attention model\n",
    "word_input = Input(shape=(maxlen, ), dtype='int32',name='word_input')\n",
    "word_sequences = embedding_layer(word_input)\n",
    "word_lstm = Bidirectional(LSTM(50, return_sequences=True),name='word_lstm')(word_sequences)\n",
    "\n",
    "word_dense = Dense(100, activation='relu', name='word_dense')(word_lstm) \n",
    "word_att,word_coeffs = AttentionLayer(embedding_dim,True,name='word_attention')(word_dense)\n",
    "#word_drop = Dropout(0.3,name='word_dropout')(word_att)\n",
    "wordEncoder = Model(inputs = word_input,outputs = word_att)\n",
    "    \n",
    "# Sentence level attention model\n",
    "sent_input = Input(shape=(max_sentences,maxlen), dtype='int32',name='sent_input')\n",
    "sent_encoder = TimeDistributed(wordEncoder,name='sent_linking')(sent_input)\n",
    "sent_lstm = Bidirectional(LSTM(50, return_sequences=True),name='sent_lstm')(sent_encoder)\n",
    "sent_dense = Dense(100, activation='relu', name='sent_dense')(sent_lstm) \n",
    "sent_att,sent_coeffs = AttentionLayer(embedding_dim,return_coefficients=True,name='sent_attention')(sent_dense)\n",
    "sent_drop = Dropout(0.5,name='sent_dropout')(sent_att)\n",
    "\n",
    "# Numerical Feature model\n",
    "meta_input = Input(shape=(47,), name='meta_input')\n",
    "\n",
    "x = concatenate([sent_drop, meta_input])\n",
    "x = Dense(6, activation='relu')(x)\n",
    "\n",
    "preds = Dense(2, activation='softmax',name='output')(x)\n",
    "\n",
    "        # Model compile\n",
    "model = Model([sent_input,meta_input], preds)\n",
    "model.compile(loss='categorical_crossentropy',optimizer='adam',metrics=['acc'])\n",
    "        \n",
    "print(wordEncoder.summary())\n",
    "print(model.summary())\n",
    "#return model, sent_input, sent_coeffs\n",
    "\n"
   ]
  },
  {
   "cell_type": "code",
   "execution_count": 31,
   "metadata": {},
   "outputs": [],
   "source": [
    "#model1=HAN(embedding_matrix,word_index,maxlen,max_sentences,50,100,6)"
   ]
  },
  {
   "cell_type": "code",
   "execution_count": 32,
   "metadata": {},
   "outputs": [],
   "source": [
    "from keras.callbacks import Callback, ModelCheckpoint,EarlyStopping"
   ]
  },
  {
   "cell_type": "code",
   "execution_count": 33,
   "metadata": {},
   "outputs": [],
   "source": [
    "class RocAucEvaluation(Callback):\n",
    "    def __init__(self, validation_data=(), interval=1):\n",
    "        super(Callback, self).__init__()\n",
    "\n",
    "        self.interval = interval\n",
    "        self.X_val, self.y_val = validation_data\n",
    "\n",
    "    def on_epoch_end(self, epoch, logs={}):\n",
    "        if epoch % self.interval == 0:\n",
    "            y_pred = self.model.predict(self.X_val, verbose=0)\n",
    "            score = roc_auc_score(self.y_val, y_pred)\n",
    "            #print(\"\\n ROC-AUC - epoch: %d - score: %.6f \\n\" % (epoch+1, score,sensitivity,specificity)\n",
    "    \n",
    "            print(\"\\n ROC-AUC - epoch: %d - score: %.6f \\n\" % (epoch+1, score))"
   ]
  },
  {
   "cell_type": "code",
   "execution_count": 34,
   "metadata": {},
   "outputs": [],
   "source": [
    "RocAuc = RocAucEvaluation(validation_data=([x_val,XQ_val], y_val), interval=1)"
   ]
  },
  {
   "cell_type": "code",
   "execution_count": 35,
   "metadata": {},
   "outputs": [],
   "source": [
    "#parameters=[(50,100,6),(150,200,6),(300,200,6)]"
   ]
  },
  {
   "cell_type": "code",
   "execution_count": 36,
   "metadata": {},
   "outputs": [],
   "source": [
    "checkpointer = ModelCheckpoint(\"lower2.{epoch:02d}-{val_loss:.2f}.hdf5\", monitor='val_loss', verbose=0, save_best_only=False, save_weights_only=False, mode='auto', period=1)"
   ]
  },
  {
   "cell_type": "code",
   "execution_count": 37,
   "metadata": {},
   "outputs": [],
   "source": [
    "early_stop = EarlyStopping(monitor='val_loss', mode='min', verbose=1, patience=3)"
   ]
  },
  {
   "cell_type": "code",
   "execution_count": 38,
   "metadata": {
    "scrolled": true
   },
   "outputs": [
    {
     "name": "stdout",
     "output_type": "stream",
     "text": [
      "Train on 814 samples, validate on 174 samples\n",
      "Epoch 1/12\n",
      "814/814 [==============================] - 1717s 2s/step - loss: 0.4841 - acc: 0.8268 - val_loss: 0.4684 - val_acc: 0.8276\n",
      "\n",
      " ROC-AUC - epoch: 1 - score: 0.385648 \n",
      "\n",
      "Epoch 2/12\n",
      "814/814 [==============================] - 1694s 2s/step - loss: 0.4632 - acc: 0.8268 - val_loss: 0.4627 - val_acc: 0.8276\n",
      "\n",
      " ROC-AUC - epoch: 2 - score: 0.441667 \n",
      "\n",
      "Epoch 3/12\n",
      "814/814 [==============================] - 1698s 2s/step - loss: 0.4602 - acc: 0.8268 - val_loss: 0.4588 - val_acc: 0.8276\n",
      "\n",
      " ROC-AUC - epoch: 3 - score: 0.483796 \n",
      "\n",
      "Epoch 4/12\n",
      "814/814 [==============================] - 1694s 2s/step - loss: 0.4614 - acc: 0.8268 - val_loss: 0.4575 - val_acc: 0.8276\n",
      "\n",
      " ROC-AUC - epoch: 4 - score: 0.551157 \n",
      "\n",
      "Epoch 5/12\n",
      "814/814 [==============================] - 1688s 2s/step - loss: 0.4578 - acc: 0.8268 - val_loss: 0.4537 - val_acc: 0.8276\n",
      "\n",
      " ROC-AUC - epoch: 5 - score: 0.553472 \n",
      "\n",
      "Epoch 6/12\n",
      "814/814 [==============================] - 1701s 2s/step - loss: 0.4556 - acc: 0.8268 - val_loss: 0.4524 - val_acc: 0.8276\n",
      "\n",
      " ROC-AUC - epoch: 6 - score: 0.574074 \n",
      "\n",
      "Epoch 7/12\n",
      "814/814 [==============================] - 1693s 2s/step - loss: 0.4538 - acc: 0.8268 - val_loss: 0.4499 - val_acc: 0.8276\n",
      "\n",
      " ROC-AUC - epoch: 7 - score: 0.608796 \n",
      "\n",
      "Epoch 8/12\n",
      "814/814 [==============================] - 1691s 2s/step - loss: 0.4520 - acc: 0.8268 - val_loss: 0.4484 - val_acc: 0.8276\n",
      "\n",
      " ROC-AUC - epoch: 8 - score: 0.619676 \n",
      "\n",
      "Epoch 9/12\n",
      "814/814 [==============================] - 1697s 2s/step - loss: 0.4495 - acc: 0.8268 - val_loss: 0.4415 - val_acc: 0.8276\n",
      "\n",
      " ROC-AUC - epoch: 9 - score: 0.705787 \n",
      "\n",
      "Epoch 10/12\n",
      "814/814 [==============================] - 1693s 2s/step - loss: 0.4473 - acc: 0.8268 - val_loss: 0.4577 - val_acc: 0.8276\n",
      "\n",
      " ROC-AUC - epoch: 10 - score: 0.619907 \n",
      "\n",
      "Epoch 11/12\n",
      "814/814 [==============================] - 1697s 2s/step - loss: 0.4468 - acc: 0.8268 - val_loss: 0.4344 - val_acc: 0.8276\n",
      "\n",
      " ROC-AUC - epoch: 11 - score: 0.755787 \n",
      "\n",
      "Epoch 12/12\n",
      "814/814 [==============================] - 1699s 2s/step - loss: 0.4389 - acc: 0.8268 - val_loss: 0.4282 - val_acc: 0.8276\n",
      "\n",
      " ROC-AUC - epoch: 12 - score: 0.764583 \n",
      "\n"
     ]
    }
   ],
   "source": [
    "Han1 = model.fit([x_train,XQ_train], y_train, validation_data=([x_val,XQ_val], y_val), epochs=12, batch_size=32,callbacks=[RocAuc,checkpointer,early_stop])\n"
   ]
  },
  {
   "cell_type": "code",
   "execution_count": 39,
   "metadata": {
    "scrolled": false
   },
   "outputs": [
    {
     "name": "stdout",
     "output_type": "stream",
     "text": [
      "Train on 814 samples, validate on 174 samples\n",
      "Epoch 1/4\n",
      "The history saving thread hit an unexpected error (OperationalError('disk I/O error',)).History will not be written to the database.\n",
      "814/814 [==============================] - 1698s 2s/step - loss: 0.4333 - acc: 0.8268 - val_loss: 0.4173 - val_acc: 0.8276\n",
      "\n",
      " ROC-AUC - epoch: 1 - score: 0.733333 \n",
      "\n",
      "Epoch 2/4\n",
      "814/814 [==============================] - 1871s 2s/step - loss: 0.4218 - acc: 0.8268 - val_loss: 0.4148 - val_acc: 0.8276\n",
      "\n",
      " ROC-AUC - epoch: 2 - score: 0.728009 \n",
      "\n",
      "Epoch 3/4\n",
      "814/814 [==============================] - 1884s 2s/step - loss: 0.4109 - acc: 0.8268 - val_loss: 0.4655 - val_acc: 0.8276\n",
      "\n",
      " ROC-AUC - epoch: 3 - score: 0.713889 \n",
      "\n",
      "Epoch 4/4\n",
      "814/814 [==============================] - 1895s 2s/step - loss: 0.4208 - acc: 0.8268 - val_loss: 0.4070 - val_acc: 0.8276\n",
      "\n",
      " ROC-AUC - epoch: 4 - score: 0.734028 \n",
      "\n"
     ]
    }
   ],
   "source": [
    "Han1 = model.fit([x_train,XQ_train], y_train, validation_data=([x_val,XQ_val], y_val), epochs=4, batch_size=32,callbacks=[RocAuc,checkpointer])\n"
   ]
  },
  {
   "cell_type": "code",
   "execution_count": 136,
   "metadata": {},
   "outputs": [
    {
     "name": "stdout",
     "output_type": "stream",
     "text": [
      "Train on 814 samples, validate on 174 samples\n",
      "Epoch 1/2\n",
      "814/814 [==============================] - 1742s 2s/step - loss: 0.0980 - acc: 0.9730 - val_loss: 0.4297 - val_acc: 0.8276\n",
      "\n",
      " ROC-AUC - epoch: 1 - score: 0.871296 \n",
      "\n",
      "Epoch 2/2\n",
      "814/814 [==============================] - 2945s 4s/step - loss: 0.0756 - acc: 0.9717 - val_loss: 0.3609 - val_acc: 0.9195\n",
      "\n",
      " ROC-AUC - epoch: 2 - score: 0.906019 \n",
      "\n"
     ]
    }
   ],
   "source": [
    "Han1 = model.fit([x_train,XQ_train], y_train, validation_data=([x_val,XQ_val], y_val), epochs=2, batch_size=32,callbacks=[RocAuc,checkpointer])\n"
   ]
  },
  {
   "cell_type": "code",
   "execution_count": 150,
   "metadata": {
    "scrolled": true
   },
   "outputs": [
    {
     "name": "stdout",
     "output_type": "stream",
     "text": [
      "Train on 814 samples, validate on 174 samples\n",
      "Epoch 1/2\n",
      "814/814 [==============================] - 2941s 4s/step - loss: 0.0854 - acc: 0.9779 - val_loss: 0.3801 - val_acc: 0.8736\n",
      "\n",
      " ROC-AUC - epoch: 1 - score: 0.887269 \n",
      "\n",
      "Epoch 2/2\n",
      "814/814 [==============================] - 2982s 4s/step - loss: 0.0588 - acc: 0.9840 - val_loss: 0.3210 - val_acc: 0.9023\n",
      "\n",
      " ROC-AUC - epoch: 2 - score: 0.900463 \n",
      "\n"
     ]
    }
   ],
   "source": [
    "Han1 = model.fit([x_train,XQ_train], y_train, validation_data=([x_val,XQ_val], y_val), epochs=2, batch_size=32,callbacks=[RocAuc,checkpointer])\n"
   ]
  },
  {
   "cell_type": "code",
   "execution_count": null,
   "metadata": {},
   "outputs": [],
   "source": []
  },
  {
   "cell_type": "code",
   "execution_count": 67,
   "metadata": {},
   "outputs": [],
   "source": [
    "from sklearn.metrics import roc_curve, auc, roc_auc_score,recall_score\n",
    "from sklearn.metrics import classification_report\n",
    "from sklearn.metrics import confusion_matrix"
   ]
  },
  {
   "cell_type": "markdown",
   "metadata": {},
   "source": [
    "# HAN Model Evaluation on Val Set"
   ]
  },
  {
   "cell_type": "code",
   "execution_count": 139,
   "metadata": {},
   "outputs": [
    {
     "name": "stdout",
     "output_type": "stream",
     "text": [
      "174/174 [==============================] - 212s 1s/step\n"
     ]
    }
   ],
   "source": [
    "#Model Evaluation on Val Set\n",
    "loss_val, acc_val= model.evaluate([x_val,XQ_val], y_val)"
   ]
  },
  {
   "cell_type": "code",
   "execution_count": 140,
   "metadata": {},
   "outputs": [
    {
     "name": "stdout",
     "output_type": "stream",
     "text": [
      "0.9195402264595032\n",
      "0.3609221954455321\n"
     ]
    }
   ],
   "source": [
    "print(acc_val)\n",
    "print(loss_val)\n",
    "#print(sens_val)\n",
    "#print(spec_val)"
   ]
  },
  {
   "cell_type": "code",
   "execution_count": 141,
   "metadata": {},
   "outputs": [],
   "source": [
    "y_pred_val=model.predict([x_val,XQ_val],callbacks=[RocAuc])"
   ]
  },
  {
   "cell_type": "code",
   "execution_count": 142,
   "metadata": {},
   "outputs": [],
   "source": [
    "from sklearn.metrics import roc_curve, auc, roc_auc_score, accuracy_score, f1_score, confusion_matrix, recall_score, precision_score"
   ]
  },
  {
   "cell_type": "code",
   "execution_count": 143,
   "metadata": {},
   "outputs": [
    {
     "name": "stdout",
     "output_type": "stream",
     "text": [
      "0.9060185185185186\n"
     ]
    }
   ],
   "source": [
    "score_val=roc_auc_score(y_val,y_pred_val)\n",
    "print(score_val)"
   ]
  },
  {
   "cell_type": "code",
   "execution_count": 144,
   "metadata": {},
   "outputs": [],
   "source": [
    "#to calculat teh roc_auc and test, y_pred_val1 are pred for the label=1, y_val1 are the 0..1 for label 1\n",
    "y_val1=[y_val[k][1] for k in range(len(y_val))]\n",
    "y_pred_val1=[y_pred_val[k][1] for k in range(len(y_pred_val))]\n",
    "#this is the treshold for 50%\n",
    "y_pred_val2 = np.argmax(y_pred_val, axis=1)"
   ]
  },
  {
   "cell_type": "code",
   "execution_count": 145,
   "metadata": {},
   "outputs": [],
   "source": [
    "fpr, tpr, thresholds = roc_curve(y_val1,y_pred_val1)"
   ]
  },
  {
   "cell_type": "code",
   "execution_count": 146,
   "metadata": {},
   "outputs": [
    {
     "data": {
      "text/plain": [
       "0.9060185185185184"
      ]
     },
     "execution_count": 146,
     "metadata": {},
     "output_type": "execute_result"
    }
   ],
   "source": [
    "auc(fpr, tpr)"
   ]
  },
  {
   "cell_type": "code",
   "execution_count": 147,
   "metadata": {},
   "outputs": [
    {
     "name": "stdout",
     "output_type": "stream",
     "text": [
      "0.9195402298850575 0.7666666666666666 0.5333333333333333 1.0\n"
     ]
    }
   ],
   "source": [
    "cm_val=confusion_matrix(y_val1,y_pred_val2)\n",
    "total_val = sum(sum(cm_val))\n",
    "acc_val2 = (cm_val[0, 0] + cm_val[1, 1]) / total_val\n",
    "specificity_val = cm_val[0, 0] / (cm_val[0, 0] + cm_val[0, 1])\n",
    "sensitivity_val = cm_val[1, 1] / (cm_val[1, 0] + cm_val[1, 1])\n",
    "score_val2=roc_auc_score(y_val1,y_pred_val2)\n",
    "print(acc_val2,score_val2,sensitivity_val,specificity_val)"
   ]
  },
  {
   "cell_type": "markdown",
   "metadata": {},
   "source": [
    "# HAN Model Evaluation on Test Set"
   ]
  },
  {
   "cell_type": "code",
   "execution_count": 137,
   "metadata": {},
   "outputs": [
    {
     "name": "stdout",
     "output_type": "stream",
     "text": [
      "175/175 [==============================] - 214s 1s/step\n",
      "Test set accuracy:  0.8799999952316284\n",
      "Test set loss:  0.48310773049082073\n"
     ]
    }
   ],
   "source": [
    "#Model Evaluation on Test Set\n",
    "loss_test, acc_test= model.evaluate([x_test,XQ_test], y_test)\n",
    "print(\"Test set accuracy: \",acc_test)\n",
    "print(\"Test set loss: \", loss_test)"
   ]
  },
  {
   "cell_type": "code",
   "execution_count": 138,
   "metadata": {},
   "outputs": [
    {
     "name": "stdout",
     "output_type": "stream",
     "text": [
      "0.8733333333333333\n"
     ]
    }
   ],
   "source": [
    "y_pred_test=model.predict([x_test,XQ_test])\n",
    "score_test=roc_auc_score(y_test,y_pred_test)\n",
    "print(score_test)"
   ]
  },
  {
   "cell_type": "code",
   "execution_count": 148,
   "metadata": {},
   "outputs": [],
   "source": [
    "#to calculat teh roc_auc and test, y_pred_val1 are pred for the label=1, y_val1 are the 0..1 for label 1\n",
    "y_test1=[y_test[k][1] for k in range(len(y_test))]\n",
    "y_pred_test1=[y_pred_test[k][1] for k in range(len(y_pred_test))]\n",
    "#this is the treshold for 50%\n",
    "y_pred_test2 = np.argmax(y_pred_test, axis=1)"
   ]
  },
  {
   "cell_type": "code",
   "execution_count": 149,
   "metadata": {},
   "outputs": [
    {
     "name": "stdout",
     "output_type": "stream",
     "text": [
      "0.88 0.6764367816091954 0.36666666666666664 0.9862068965517241\n"
     ]
    }
   ],
   "source": [
    "cm_test=confusion_matrix(y_test1,y_pred_test2)\n",
    "total_test = sum(sum(cm_test))\n",
    "acc_test2 = (cm_test[0, 0] + cm_test[1, 1]) / total_test\n",
    "specificity_test = cm_test[0, 0] / (cm_test[0, 0] + cm_test[0, 1])\n",
    "sensitivity_test = cm_test[1, 1] / (cm_test[1, 0] + cm_test[1, 1])\n",
    "score_test2=roc_auc_score(y_test1,y_pred_test2)\n",
    "print(acc_test2,score_test2,sensitivity_test,specificity_test)"
   ]
  },
  {
   "cell_type": "markdown",
   "metadata": {},
   "source": [
    "# ML Model Validation Set"
   ]
  },
  {
   "cell_type": "code",
   "execution_count": 86,
   "metadata": {},
   "outputs": [],
   "source": [
    "#all variables Ling plus Compustat plus Tfidf, run all with ModelCombi, and with Baseline to get only com and ling\n",
    "#XQ=X.iloc[:, 14:].drop([\"Office\",\"Industry.Title\",\"preV2\"],axis=1)\n",
    "XQ=X[['AccRec.DbtsT', 'Sales.TurnNt', 'COGS.costsgd', 'Assets.Total',\n",
    "       'CurrAssetTot', 'PPE.TotalNet', 'DeprAmortTot', 'AmrtOfIntang',\n",
    "       'SG.A.Expense', 'LT.Debt.Totl', 'CurrLiabsTot', 'Income.IBEXi',\n",
    "       'Oper.Act.NCF', 'Fin.Actv.NCF', 'Comm.OrdinEQ', 'ComSharOutst',\n",
    "       'CashSTInvest', 'InventTotQtl', 'DeferrTaxInc', 'GrProfitMarg',\n",
    "       'EBIT.Marginn', 'NtProfitMarg', 'CashFLMargin', 'ROA.finratio',\n",
    "       'ROE.RnCommEQ', 'EBITDAMargin', 'Acc.Payables', 'InventoryPrx','DSR', 'GMI', 'AQI', 'SGI', 'DEPI', 'SGAI', 'LEVI', 'ACCRUALS', 'PROBM',\n",
    "       'AverageTA', 'CFF', 'Leverage', 'dWC_Accruals', 'dReceivables',\n",
    "       'dInventories', 'dEarnings', 'dCash_Sales', 'dCash_Margin',\n",
    "       'dDef_Tax_Expense', 'mda_positive_score',\n",
    "       'mda_negative_score', 'mda_polarity_score',\n",
    "       'mda_average_sentence_length', 'mda_percentage_of_complex_words',\n",
    "       'mda_fog_index', 'mda_complex_word_count', 'mda_word_count',\n",
    "       'mda_uncertainty_score', 'mda_constraining_score',\n",
    "       'mda_positive_word_proportion', 'mda_negative_word_proportion',\n",
    "       'mda_uncertainty_word_proportion', 'mda_constraining_word_proportion']]\n",
    "\n",
    "from numpy import float32\n",
    "XQ = XQ.astype(float32)\n",
    "XQ=XQ.replace(-np.inf,-3.0028235e+38)\n",
    "XQ=XQ.replace(np.inf,3.0028235e+38)\n",
    "\n",
    "sc =MinMaxScaler(copy=True,feature_range=(0,1)) \n",
    "XQ[XQ.columns] = sc.fit_transform(XQ[XQ.columns])\n",
    "XQ_train, XQ_test, XQ_val=XQ.iloc[train.index], XQ.iloc[test.index], XQ.iloc[val.index]"
   ]
  },
  {
   "cell_type": "code",
   "execution_count": 87,
   "metadata": {},
   "outputs": [],
   "source": [
    "#only words from tfid and compustat run with ModelCombi\n",
    "#only Compustat run with Baseline\n",
    "#XQ2=X.iloc[:, 14:78]\n",
    "XQ2=X[['AccRec.DbtsT', 'Sales.TurnNt', 'COGS.costsgd', 'Assets.Total',\n",
    "       'CurrAssetTot', 'PPE.TotalNet', 'DeprAmortTot', 'AmrtOfIntang',\n",
    "       'SG.A.Expense', 'LT.Debt.Totl', 'CurrLiabsTot', 'Income.IBEXi',\n",
    "       'Oper.Act.NCF', 'Fin.Actv.NCF', 'Comm.OrdinEQ', 'ComSharOutst',\n",
    "       'CashSTInvest', 'InventTotQtl', 'DeferrTaxInc', 'GrProfitMarg',\n",
    "       'EBIT.Marginn', 'NtProfitMarg', 'CashFLMargin', 'ROA.finratio',\n",
    "       'ROE.RnCommEQ', 'EBITDAMargin', 'Acc.Payables', 'InventoryPrx','DSR', 'GMI', 'AQI', 'SGI', 'DEPI', 'SGAI', 'LEVI', 'ACCRUALS', 'PROBM',\n",
    "       'AverageTA', 'CFF', 'Leverage', 'dWC_Accruals', 'dReceivables',\n",
    "       'dInventories', 'dEarnings', 'dCash_Sales', 'dCash_Margin',\n",
    "       'dDef_Tax_Expense']]\n",
    "from numpy import float32\n",
    "XQ2 = XQ2.astype(float32)\n",
    "XQ2=XQ2.replace(-np.inf,-3.0028235e+38)\n",
    "XQ2=XQ2.replace(np.inf,3.0028235e+38)\n",
    "\n",
    "sc =MinMaxScaler(copy=True,feature_range=(0,1)) \n",
    "XQ2[XQ2.columns] = sc.fit_transform(XQ2[XQ2.columns])\n",
    "XQ2_train, XQ2_test, XQ2_val=XQ2.iloc[train.index], XQ2.iloc[test.index], XQ2.iloc[val.index]"
   ]
  },
  {
   "cell_type": "code",
   "execution_count": 88,
   "metadata": {},
   "outputs": [],
   "source": [
    "x2_train=pd.concat([X[\"pre2\"].iloc[train.index],XQ_train], axis=1)\n",
    "y2_train=X[\"target\"].iloc[train.index]\n",
    "x2_val=pd.concat([X[\"pre2\"].iloc[val.index],XQ_val], axis=1)\n",
    "y2_val=X[\"target\"].iloc[val.index]\n",
    "x2_test=pd.concat([X[\"pre2\"].iloc[test.index],XQ_test], axis=1)\n",
    "y2_test=X[\"target\"].iloc[test.index]"
   ]
  },
  {
   "cell_type": "code",
   "execution_count": 96,
   "metadata": {},
   "outputs": [
    {
     "name": "stdout",
     "output_type": "stream",
     "text": [
      "(814, 18088)\n"
     ]
    },
    {
     "name": "stderr",
     "output_type": "stream",
     "text": [
      "/home/RDC/crajapax/.conda/envs/kerasspring/lib/python3.6/site-packages/sklearn/ensemble/forest.py:245: FutureWarning: The default value of n_estimators will change from 10 in version 0.20 to 100 in 0.22.\n",
      "  \"10 in version 0.20 to 100 in 0.22.\", FutureWarning)\n",
      "/home/RDC/crajapax/.conda/envs/kerasspring/lib/python3.6/site-packages/sklearn/linear_model/logistic.py:432: FutureWarning: Default solver will be changed to 'lbfgs' in 0.22. Specify a solver to silence this warning.\n",
      "  FutureWarning)\n"
     ]
    },
    {
     "name": "stdout",
     "output_type": "stream",
     "text": [
      "(814, 61)\n"
     ]
    },
    {
     "name": "stderr",
     "output_type": "stream",
     "text": [
      "/home/RDC/crajapax/.conda/envs/kerasspring/lib/python3.6/site-packages/sklearn/ensemble/forest.py:245: FutureWarning: The default value of n_estimators will change from 10 in version 0.20 to 100 in 0.22.\n",
      "  \"10 in version 0.20 to 100 in 0.22.\", FutureWarning)\n",
      "/home/RDC/crajapax/.conda/envs/kerasspring/lib/python3.6/site-packages/sklearn/linear_model/logistic.py:432: FutureWarning: Default solver will be changed to 'lbfgs' in 0.22. Specify a solver to silence this warning.\n",
      "  FutureWarning)\n"
     ]
    }
   ],
   "source": [
    "MLmodels_val2=CombiModelsEval(\"None\",0,x2_train,x2_val,y2_train,y2_val)\n",
    "#BMLmodels_val2=CombiModelsEval(\"None\",0,x2_train,x2_val,y2_train,y2_val)\n",
    "Baselinemodels_val2=Baseline(\"None\",0,x2_train,x2_val,y2_train,y2_val)\n",
    "#CompOnlyBaselinemodels_val2=Baseline(\"None\",0,x2_train,x2_val,y2_train,y2_val)\n"
   ]
  },
  {
   "cell_type": "code",
   "execution_count": 97,
   "metadata": {},
   "outputs": [],
   "source": [
    "resultsdict_val2,rocdicts_val2,forest_importance_val2,X_col_val2=MLmodels_val2\n",
    "#,rf_importance_val2,Xcol_val2=MLmodels_val2\n",
    "#Bresultsdict_val2,Brocdicts_val2,Bforest_importance_val2=BMLmodels_val2\n",
    "BLresultsdict_val2,BLrocdicts_val2,BLforest_importance_val2,BLX_col_val2=Baselinemodels_val2\n",
    "#CBLresultsdict_val2,CBLrocdicts_val2,CBLforest_importance_val2=CompOnlyBaselinemodels_val2"
   ]
  },
  {
   "cell_type": "code",
   "execution_count": 98,
   "metadata": {},
   "outputs": [],
   "source": [
    "resultsdict_val2[\"HaN_LSTM\"]=(score_val,sensitivity_val,specificity_val,acc_val)\n",
    "rocdicts_val2[\"HaN_LSTM\"]=(y_val1,y_pred_val1)\n",
    "BLresultsdict_val2[\"HaN_LSTM\"]=(score_val,sensitivity_val,specificity_val,acc_val)\n",
    "BLrocdicts_val2[\"HaN_LSTM\"]=(y_val1,y_pred_val1)\n",
    "#Bresultsdict_val2[\"HaN_LSTM\"]=(score_val,sensitivity_val,specificity_val,acc_val)\n",
    "#Brocdicts_val2[\"HaN_LSTM\"]=(y_val1,y_pred_val1)\n",
    "#CBLresultsdict_val2[\"HaN_LSTM\"]=(score_val,sensitivity_val,specificity_val,acc_val)\n",
    "#CBLrocdicts_val2[\"HaN_LSTM\"]=(y_val1,y_pred_val1)"
   ]
  },
  {
   "cell_type": "code",
   "execution_count": 99,
   "metadata": {},
   "outputs": [
    {
     "data": {
      "text/html": [
       "<div>\n",
       "<style scoped>\n",
       "    .dataframe tbody tr th:only-of-type {\n",
       "        vertical-align: middle;\n",
       "    }\n",
       "\n",
       "    .dataframe tbody tr th {\n",
       "        vertical-align: top;\n",
       "    }\n",
       "\n",
       "    .dataframe thead th {\n",
       "        text-align: right;\n",
       "    }\n",
       "</style>\n",
       "<table border=\"1\" class=\"dataframe\">\n",
       "  <thead>\n",
       "    <tr style=\"text-align: right;\">\n",
       "      <th></th>\n",
       "      <th>RF</th>\n",
       "      <th>SVM_lin</th>\n",
       "      <th>LR</th>\n",
       "      <th>NB</th>\n",
       "      <th>HaN_LSTM</th>\n",
       "    </tr>\n",
       "  </thead>\n",
       "  <tbody>\n",
       "    <tr>\n",
       "      <th>roc_auc</th>\n",
       "      <td>0.830093</td>\n",
       "      <td>0.871991</td>\n",
       "      <td>0.868287</td>\n",
       "      <td>0.784375</td>\n",
       "      <td>0.801620</td>\n",
       "    </tr>\n",
       "    <tr>\n",
       "      <th>sensitivity</th>\n",
       "      <td>0.266667</td>\n",
       "      <td>0.666667</td>\n",
       "      <td>0.700000</td>\n",
       "      <td>0.866667</td>\n",
       "      <td>0.000000</td>\n",
       "    </tr>\n",
       "    <tr>\n",
       "      <th>specificity</th>\n",
       "      <td>0.993056</td>\n",
       "      <td>0.951389</td>\n",
       "      <td>0.951389</td>\n",
       "      <td>0.666667</td>\n",
       "      <td>1.000000</td>\n",
       "    </tr>\n",
       "    <tr>\n",
       "      <th>accuracy</th>\n",
       "      <td>0.867816</td>\n",
       "      <td>0.902299</td>\n",
       "      <td>0.908046</td>\n",
       "      <td>0.701149</td>\n",
       "      <td>0.827586</td>\n",
       "    </tr>\n",
       "  </tbody>\n",
       "</table>\n",
       "</div>"
      ],
      "text/plain": [
       "                   RF   SVM_lin        LR        NB  HaN_LSTM\n",
       "roc_auc      0.830093  0.871991  0.868287  0.784375  0.801620\n",
       "sensitivity  0.266667  0.666667  0.700000  0.866667  0.000000\n",
       "specificity  0.993056  0.951389  0.951389  0.666667  1.000000\n",
       "accuracy     0.867816  0.902299  0.908046  0.701149  0.827586"
      ]
     },
     "execution_count": 99,
     "metadata": {},
     "output_type": "execute_result"
    }
   ],
   "source": [
    "#Comp plus tfidf plus Ling\n",
    "PerformanceSummary(resultsdict_val2)"
   ]
  },
  {
   "cell_type": "code",
   "execution_count": 114,
   "metadata": {},
   "outputs": [
    {
     "data": {
      "text/plain": [
       "{'RF': (0.860763888888889,\n",
       "  0.13333333333333333,\n",
       "  0.9930555555555556,\n",
       "  0.8448275862068966),\n",
       " 'SVM_lin': (0.7604166666666666, 0.0, 1.0, 0.8275862068965517),\n",
       " 'LR': (0.6884259259259259, 0.0, 1.0, 0.8275862068965517),\n",
       " 'NB': (0.6180555555555555, 0.0, 0.9930555555555556, 0.8218390804597702),\n",
       " 'HaN_LSTM': (0.8016203703703704, 0.0, 1.0, 0.8275862336158752)}"
      ]
     },
     "execution_count": 114,
     "metadata": {},
     "output_type": "execute_result"
    }
   ],
   "source": [
    "BLresultsdict_val2"
   ]
  },
  {
   "cell_type": "code",
   "execution_count": 100,
   "metadata": {},
   "outputs": [
    {
     "data": {
      "text/html": [
       "<div>\n",
       "<style scoped>\n",
       "    .dataframe tbody tr th:only-of-type {\n",
       "        vertical-align: middle;\n",
       "    }\n",
       "\n",
       "    .dataframe tbody tr th {\n",
       "        vertical-align: top;\n",
       "    }\n",
       "\n",
       "    .dataframe thead th {\n",
       "        text-align: right;\n",
       "    }\n",
       "</style>\n",
       "<table border=\"1\" class=\"dataframe\">\n",
       "  <thead>\n",
       "    <tr style=\"text-align: right;\">\n",
       "      <th></th>\n",
       "      <th>RF</th>\n",
       "      <th>SVM_lin</th>\n",
       "      <th>LR</th>\n",
       "      <th>NB</th>\n",
       "      <th>HaN_LSTM</th>\n",
       "    </tr>\n",
       "  </thead>\n",
       "  <tbody>\n",
       "    <tr>\n",
       "      <th>roc_auc</th>\n",
       "      <td>0.860764</td>\n",
       "      <td>0.760417</td>\n",
       "      <td>0.688426</td>\n",
       "      <td>0.618056</td>\n",
       "      <td>0.801620</td>\n",
       "    </tr>\n",
       "    <tr>\n",
       "      <th>sensitivity</th>\n",
       "      <td>0.133333</td>\n",
       "      <td>0.000000</td>\n",
       "      <td>0.000000</td>\n",
       "      <td>0.000000</td>\n",
       "      <td>0.000000</td>\n",
       "    </tr>\n",
       "    <tr>\n",
       "      <th>specificity</th>\n",
       "      <td>0.993056</td>\n",
       "      <td>1.000000</td>\n",
       "      <td>1.000000</td>\n",
       "      <td>0.993056</td>\n",
       "      <td>1.000000</td>\n",
       "    </tr>\n",
       "    <tr>\n",
       "      <th>accuracy</th>\n",
       "      <td>0.844828</td>\n",
       "      <td>0.827586</td>\n",
       "      <td>0.827586</td>\n",
       "      <td>0.821839</td>\n",
       "      <td>0.827586</td>\n",
       "    </tr>\n",
       "  </tbody>\n",
       "</table>\n",
       "</div>"
      ],
      "text/plain": [
       "                   RF   SVM_lin        LR        NB  HaN_LSTM\n",
       "roc_auc      0.860764  0.760417  0.688426  0.618056  0.801620\n",
       "sensitivity  0.133333  0.000000  0.000000  0.000000  0.000000\n",
       "specificity  0.993056  1.000000  1.000000  0.993056  1.000000\n",
       "accuracy     0.844828  0.827586  0.827586  0.821839  0.827586"
      ]
     },
     "execution_count": 100,
     "metadata": {},
     "output_type": "execute_result"
    }
   ],
   "source": [
    "#Compustat plus nur Ling Variables\n",
    "PerformanceSummary(BLresultsdict_val2)"
   ]
  },
  {
   "cell_type": "code",
   "execution_count": 107,
   "metadata": {},
   "outputs": [],
   "source": [
    "path=\"/home/RDC/crajapax/crajapax/DataCollection/LatestVersions/ResultsCombi_lowercase2/Random/\""
   ]
  },
  {
   "cell_type": "code",
   "execution_count": 110,
   "metadata": {},
   "outputs": [],
   "source": [
    "PerformanceSummary(resultsdict_val2).to_latex(path+\"Combival.tex\")\n",
    "save_obj(resultsdict_val2,\"Combival\")"
   ]
  },
  {
   "cell_type": "code",
   "execution_count": 111,
   "metadata": {},
   "outputs": [
    {
     "data": {
      "image/png": "[encoded data removed]",
      "text/plain": [
       "<Figure size 504x504 with 1 Axes>"
      ]
     },
     "metadata": {
      "needs_background": "light"
     },
     "output_type": "display_data"
    }
   ],
   "source": [
    "Roc(rocdicts_val2,\"Combival\")"
   ]
  },
  {
   "cell_type": "code",
   "execution_count": 123,
   "metadata": {},
   "outputs": [],
   "source": [
    "indiCombi=np.argsort(forest_importance_val2)[-100:]"
   ]
  },
  {
   "cell_type": "code",
   "execution_count": 124,
   "metadata": {},
   "outputs": [
    {
     "data": {
      "text/plain": [
       "array(['mexico', 'sunnyval', 'scrap', 'sooner', 'graphic', 'buford',\n",
       "       'ntsc', 'consider', 'china', 'harco', 'african', 'method', 'ramp',\n",
       "       'twelv', 'tigerdirect', 'exact', 'enesco', 'intercept',\n",
       "       'overallot', 'bullet', 'aust', 'deviat', 'mda_uncertainty_score',\n",
       "       'unsubordin', 'trial', 'carn', 'mileston', 'caus', 'riot', 'ca',\n",
       "       'SG.A.Expense', 'notch', 'enteron', 'sarban', 'wholli', 'deepwat',\n",
       "       'Assets.Total', 'hold', 'spread', 'brick', 'numer', 'ci',\n",
       "       'inopportun', 'larg', 'obsolet', 'strateg', 'tight', 'confidenti',\n",
       "       'pursu', 'italian', 'mortal', 'franchise', 'emc', 'medic',\n",
       "       'revamp', 'debar', 'truck', 'mda_uncertainty_word_proportion',\n",
       "       'intranet', 'atlant', 'diagnost', 'crewboat', 'integr', 'reliabl',\n",
       "       'america', 'op', 'aim', 'jurisdict', 'defect', 'rp',\n",
       "       'CurrLiabsTot', 'InventoryPrx', 'modestli', 'forens', 'contact',\n",
       "       'past', 'aerospac', 'Oper.Act.NCF', 'peopl', 'DeprAmortTot',\n",
       "       'apac', 'copier', 'gen', 'vol', 'sate', 'Comm.OrdinEQ', 'shrinkag',\n",
       "       'milwauke', 'bu', 'finlay', 'fine', 'chena', 'GrProfitMarg',\n",
       "       'complex', 'cpa', 'bailey', 'ptv', 'ferm', 'lin', 'correctli'],\n",
       "      dtype=object)"
      ]
     },
     "execution_count": 124,
     "metadata": {},
     "output_type": "execute_result"
    }
   ],
   "source": [
    "X_col_val2[indiCombi]"
   ]
  },
  {
   "cell_type": "code",
   "execution_count": 120,
   "metadata": {},
   "outputs": [],
   "source": [
    "indices=np.argsort(BLforest_importance_val2)[-20:]"
   ]
  },
  {
   "cell_type": "code",
   "execution_count": 122,
   "metadata": {},
   "outputs": [
    {
     "data": {
      "text/plain": [
       "array(['AverageTA', 'InventTotQtl', 'dWC_Accruals', 'DeprAmortTot', 'CFF',\n",
       "       'mda_uncertainty_word_proportion', 'Acc.Payables', 'ROA.finratio',\n",
       "       'mda_positive_word_proportion', 'AmrtOfIntang', 'EBIT.Marginn',\n",
       "       'mda_fog_index', 'mda_percentage_of_complex_words', 'CurrLiabsTot',\n",
       "       'dInventories', 'Assets.Total', 'AccRec.DbtsT', 'ComSharOutst',\n",
       "       'Comm.OrdinEQ', 'InventoryPrx'], dtype=object)"
      ]
     },
     "execution_count": 122,
     "metadata": {},
     "output_type": "execute_result"
    }
   ],
   "source": [
    "BLX_col_val2[indices]"
   ]
  },
  {
   "cell_type": "markdown",
   "metadata": {},
   "source": [
    "# Evaluation on Test Set"
   ]
  },
  {
   "cell_type": "code",
   "execution_count": 102,
   "metadata": {},
   "outputs": [
    {
     "name": "stdout",
     "output_type": "stream",
     "text": [
      "(814, 18088)\n"
     ]
    },
    {
     "name": "stderr",
     "output_type": "stream",
     "text": [
      "/home/RDC/crajapax/.conda/envs/kerasspring/lib/python3.6/site-packages/sklearn/ensemble/forest.py:245: FutureWarning: The default value of n_estimators will change from 10 in version 0.20 to 100 in 0.22.\n",
      "  \"10 in version 0.20 to 100 in 0.22.\", FutureWarning)\n",
      "/home/RDC/crajapax/.conda/envs/kerasspring/lib/python3.6/site-packages/sklearn/linear_model/logistic.py:432: FutureWarning: Default solver will be changed to 'lbfgs' in 0.22. Specify a solver to silence this warning.\n",
      "  FutureWarning)\n"
     ]
    },
    {
     "name": "stdout",
     "output_type": "stream",
     "text": [
      "(814, 61)\n"
     ]
    },
    {
     "name": "stderr",
     "output_type": "stream",
     "text": [
      "/home/RDC/crajapax/.conda/envs/kerasspring/lib/python3.6/site-packages/sklearn/ensemble/forest.py:245: FutureWarning: The default value of n_estimators will change from 10 in version 0.20 to 100 in 0.22.\n",
      "  \"10 in version 0.20 to 100 in 0.22.\", FutureWarning)\n",
      "/home/RDC/crajapax/.conda/envs/kerasspring/lib/python3.6/site-packages/sklearn/linear_model/logistic.py:432: FutureWarning: Default solver will be changed to 'lbfgs' in 0.22. Specify a solver to silence this warning.\n",
      "  FutureWarning)\n"
     ]
    }
   ],
   "source": [
    "MLmodels_test3=CombiModelsEval(\"None\",0,x2_train,x2_test,y2_train,y2_test)\n",
    "#BMLmodels_test2=CombiModelsEval(\"None\",0,x2_train,x2_test,y2_train,y2_test)\n",
    "Baselinemodels_test3=Baseline(\"None\",0,x2_train,x2_test,y2_train,y2_test)\n",
    "#CompOnlyBaselinemodels_test2=Baseline(\"None\",0,x2_train,x2_test,y2_train,y2_test)"
   ]
  },
  {
   "cell_type": "code",
   "execution_count": 103,
   "metadata": {},
   "outputs": [],
   "source": [
    "resultsdict_test3,rocdicts_test3,forest_importance_test3,X_col_test3=MLmodels_test3\n",
    "#,rf_importance_test,Xcol2=MLmodels_test\n",
    "#Bresultsdict_test2,Brocdicts_test2,Bforest_importance_test2=BMLmodels_test2\n",
    "BLresultsdict_test3,BLrocdicts_test3,BLforest_importance_test3,BL_Col3=Baselinemodels_test3\n",
    "#CBLresultsdict_test2,CBLrocdicts_test2,CBLforest_importance_test2=CompOnlyBaselinemodels_test2"
   ]
  },
  {
   "cell_type": "code",
   "execution_count": 104,
   "metadata": {},
   "outputs": [],
   "source": [
    "resultsdict_test3[\"HaN_LSTM\"]=(score_test,sensitivity_test,specificity_test,acc_test)\n",
    "rocdicts_test3[\"HaN_LSTM\"]=(y_test1,y_pred_test1)\n",
    "BLresultsdict_test3[\"HaN_LSTM\"]=(score_test,sensitivity_test,specificity_test,acc_test)\n",
    "BLrocdicts_test3[\"HaN_LSTM\"]=(y_test1,y_pred_test1)\n",
    "#Bresultsdict_test2[\"HaN_LSTM\"]=(score_test,sensitivity_test,specificity_test,acc_test)\n",
    "#Brocdicts_test2[\"HaN_LSTM\"]=(y_test1,y_pred_test1)\n",
    "#CBLresultsdict_test2[\"HaN_LSTM\"]=(score_test,sensitivity_test,specificity_test,acc_test)\n",
    "#CBLrocdicts_test2[\"HaN_LSTM\"]=(y_test1,y_pred_test1)"
   ]
  },
  {
   "cell_type": "code",
   "execution_count": 105,
   "metadata": {},
   "outputs": [
    {
     "data": {
      "text/html": [
       "<div>\n",
       "<style scoped>\n",
       "    .dataframe tbody tr th:only-of-type {\n",
       "        vertical-align: middle;\n",
       "    }\n",
       "\n",
       "    .dataframe tbody tr th {\n",
       "        vertical-align: top;\n",
       "    }\n",
       "\n",
       "    .dataframe thead th {\n",
       "        text-align: right;\n",
       "    }\n",
       "</style>\n",
       "<table border=\"1\" class=\"dataframe\">\n",
       "  <thead>\n",
       "    <tr style=\"text-align: right;\">\n",
       "      <th></th>\n",
       "      <th>RF</th>\n",
       "      <th>SVM_lin</th>\n",
       "      <th>LR</th>\n",
       "      <th>NB</th>\n",
       "      <th>HaN_LSTM</th>\n",
       "    </tr>\n",
       "  </thead>\n",
       "  <tbody>\n",
       "    <tr>\n",
       "      <th>roc_auc</th>\n",
       "      <td>0.850345</td>\n",
       "      <td>0.909425</td>\n",
       "      <td>0.931264</td>\n",
       "      <td>0.840920</td>\n",
       "      <td>0.802299</td>\n",
       "    </tr>\n",
       "    <tr>\n",
       "      <th>sensitivity</th>\n",
       "      <td>0.333333</td>\n",
       "      <td>0.800000</td>\n",
       "      <td>0.833333</td>\n",
       "      <td>0.933333</td>\n",
       "      <td>0.000000</td>\n",
       "    </tr>\n",
       "    <tr>\n",
       "      <th>specificity</th>\n",
       "      <td>0.993103</td>\n",
       "      <td>0.951724</td>\n",
       "      <td>0.965517</td>\n",
       "      <td>0.744828</td>\n",
       "      <td>1.000000</td>\n",
       "    </tr>\n",
       "    <tr>\n",
       "      <th>accuracy</th>\n",
       "      <td>0.880000</td>\n",
       "      <td>0.925714</td>\n",
       "      <td>0.942857</td>\n",
       "      <td>0.777143</td>\n",
       "      <td>0.828571</td>\n",
       "    </tr>\n",
       "  </tbody>\n",
       "</table>\n",
       "</div>"
      ],
      "text/plain": [
       "                   RF   SVM_lin        LR        NB  HaN_LSTM\n",
       "roc_auc      0.850345  0.909425  0.931264  0.840920  0.802299\n",
       "sensitivity  0.333333  0.800000  0.833333  0.933333  0.000000\n",
       "specificity  0.993103  0.951724  0.965517  0.744828  1.000000\n",
       "accuracy     0.880000  0.925714  0.942857  0.777143  0.828571"
      ]
     },
     "execution_count": 105,
     "metadata": {},
     "output_type": "execute_result"
    }
   ],
   "source": [
    "PerformanceSummary(resultsdict_test3)"
   ]
  },
  {
   "cell_type": "code",
   "execution_count": 115,
   "metadata": {},
   "outputs": [
    {
     "data": {
      "text/plain": [
       "{'RF': (0.7706896551724137, 0.1, 0.9862068965517241, 0.8342857142857143),\n",
       " 'SVM_lin': (0.7360919540229884, 0.0, 1.0, 0.8285714285714286),\n",
       " 'LR': (0.6841379310344827, 0.0, 1.0, 0.8285714285714286),\n",
       " 'NB': (0.45839080459770115, 0.0, 0.993103448275862, 0.8228571428571428),\n",
       " 'HaN_LSTM': (0.8022988505747126, 0.0, 1.0, 0.8285714387893677)}"
      ]
     },
     "execution_count": 115,
     "metadata": {},
     "output_type": "execute_result"
    }
   ],
   "source": [
    "BLresultsdict_test3"
   ]
  },
  {
   "cell_type": "code",
   "execution_count": 106,
   "metadata": {
    "scrolled": true
   },
   "outputs": [
    {
     "data": {
      "text/html": [
       "<div>\n",
       "<style scoped>\n",
       "    .dataframe tbody tr th:only-of-type {\n",
       "        vertical-align: middle;\n",
       "    }\n",
       "\n",
       "    .dataframe tbody tr th {\n",
       "        vertical-align: top;\n",
       "    }\n",
       "\n",
       "    .dataframe thead th {\n",
       "        text-align: right;\n",
       "    }\n",
       "</style>\n",
       "<table border=\"1\" class=\"dataframe\">\n",
       "  <thead>\n",
       "    <tr style=\"text-align: right;\">\n",
       "      <th></th>\n",
       "      <th>RF</th>\n",
       "      <th>SVM_lin</th>\n",
       "      <th>LR</th>\n",
       "      <th>NB</th>\n",
       "      <th>HaN_LSTM</th>\n",
       "    </tr>\n",
       "  </thead>\n",
       "  <tbody>\n",
       "    <tr>\n",
       "      <th>roc_auc</th>\n",
       "      <td>0.770690</td>\n",
       "      <td>0.736092</td>\n",
       "      <td>0.684138</td>\n",
       "      <td>0.458391</td>\n",
       "      <td>0.802299</td>\n",
       "    </tr>\n",
       "    <tr>\n",
       "      <th>sensitivity</th>\n",
       "      <td>0.100000</td>\n",
       "      <td>0.000000</td>\n",
       "      <td>0.000000</td>\n",
       "      <td>0.000000</td>\n",
       "      <td>0.000000</td>\n",
       "    </tr>\n",
       "    <tr>\n",
       "      <th>specificity</th>\n",
       "      <td>0.986207</td>\n",
       "      <td>1.000000</td>\n",
       "      <td>1.000000</td>\n",
       "      <td>0.993103</td>\n",
       "      <td>1.000000</td>\n",
       "    </tr>\n",
       "    <tr>\n",
       "      <th>accuracy</th>\n",
       "      <td>0.834286</td>\n",
       "      <td>0.828571</td>\n",
       "      <td>0.828571</td>\n",
       "      <td>0.822857</td>\n",
       "      <td>0.828571</td>\n",
       "    </tr>\n",
       "  </tbody>\n",
       "</table>\n",
       "</div>"
      ],
      "text/plain": [
       "                   RF   SVM_lin        LR        NB  HaN_LSTM\n",
       "roc_auc      0.770690  0.736092  0.684138  0.458391  0.802299\n",
       "sensitivity  0.100000  0.000000  0.000000  0.000000  0.000000\n",
       "specificity  0.986207  1.000000  1.000000  0.993103  1.000000\n",
       "accuracy     0.834286  0.828571  0.828571  0.822857  0.828571"
      ]
     },
     "execution_count": 106,
     "metadata": {},
     "output_type": "execute_result"
    }
   ],
   "source": [
    "#Compustat plus nur Ling Variables\n",
    "PerformanceSummary(BLresultsdict_test3)"
   ]
  },
  {
   "cell_type": "code",
   "execution_count": 116,
   "metadata": {},
   "outputs": [],
   "source": [
    "PerformanceSummary(BLresultsdict_test3).to_latex(path+\"BLtest.tex\")\n",
    "save_obj(BLresultsdict_test3,\"BLresultsdict_test3\")"
   ]
  },
  {
   "cell_type": "code",
   "execution_count": 117,
   "metadata": {},
   "outputs": [
    {
     "data": {
      "image/png": "[encoded data removed]",
      "text/plain": [
       "<Figure size 504x504 with 1 Axes>"
      ]
     },
     "metadata": {
      "needs_background": "light"
     },
     "output_type": "display_data"
    }
   ],
   "source": [
    "Roc(BLrocdicts_test3,\"BLtest\")"
   ]
  },
  {
   "cell_type": "code",
   "execution_count": 90,
   "metadata": {},
   "outputs": [],
   "source": [
    "def Roc(rocdicts,name): \n",
    "    \n",
    "    plt.figure(figsize=(7,7))\n",
    "        \n",
    "    # Compute ROC curve and area under the curve\n",
    "    for model in rocdicts:\n",
    "        a,b=rocdicts[model]\n",
    "        fpr, tpr, thresholds = roc_curve(a,b)\n",
    "        roc_auc = auc(fpr, tpr)\n",
    "      \n",
    "\n",
    "        plt.plot(fpr, tpr, alpha=0.3,\n",
    "                 label=\"ROC \"+ model+ \" (AUC = %0.2f)\" % (roc_auc),lw=2)\n",
    "        \n",
    "        \n",
    "\n",
    "    plt.plot([0, 1], [0, 1], linestyle='--', lw=2, color='r', label='Chance', alpha=.8)\n",
    "    plt.xlim([-0.01, 1.01])\n",
    "    plt.ylim([-0.01, 1.01])\n",
    "    plt.xlabel('False Positive Rate',fontsize=18)\n",
    "    plt.ylabel('True Positive Rate',fontsize=18)\n",
    "    plt.title('Receiver Operating Characteristic',fontsize=18)\n",
    "    plt.legend(loc=\"lower right\", prop={'size': 10})\n",
    "    plt.savefig(path+name+\".png\")\n",
    "    plt.show()\n"
   ]
  },
  {
   "cell_type": "code",
   "execution_count": 91,
   "metadata": {},
   "outputs": [],
   "source": [
    "def PerformanceSummary(resultsdict):\n",
    "    column_names = [\"roc_auc\",'sensitivity','specificity','accuracy']\n",
    "    return pd.DataFrame(resultsdict, index=column_names)"
   ]
  },
  {
   "cell_type": "code",
   "execution_count": 92,
   "metadata": {},
   "outputs": [],
   "source": [
    "def calculate_performance(y_val, y_pred_val,y_score):\n",
    "    cm_val=confusion_matrix(y_val, y_pred_val)\n",
    "    total_val = sum(sum(cm_val))\n",
    "    acc_val2 = (cm_val[0, 0] + cm_val[1, 1]) / total_val\n",
    "    specificity = cm_val[0, 0] / (cm_val[0, 0] + cm_val[0, 1])\n",
    "    sensitivity = cm_val[1, 1] / (cm_val[1, 0] + cm_val[1, 1])\n",
    "  \n",
    "    #specificity = np.sum(true_negatives) / np.sum(actual_negatives)\n",
    "\n",
    "    #recall = recall_score(y_val, y_pred_val)\n",
    "    accuracy=accuracy_score(y_val, y_pred_val)\n",
    "    fpr, tpr, t = roc_curve(y_val, y_score)\n",
    "    roc_auc = auc(fpr, tpr)\n",
    "    #roc_auc_score2 =roc_auc_score(y_val,y_pred_val)\n",
    "    #roc auc score und roc_auc sind das gleiche\n",
    "    return (roc_auc,sensitivity,specificity,accuracy)"
   ]
  },
  {
   "cell_type": "code",
   "execution_count": 93,
   "metadata": {},
   "outputs": [],
   "source": [
    "def Baseline(featureselection,number_of_chi2features,X_train,X_test,y_train,y_test):\n",
    "\n",
    "    XC_train, XC_test= X_train.drop(\"pre2\", axis=1), X_test.drop(\"pre2\", axis=1)\n",
    "    # create a count vectorizer object \n",
    "    #count = CountVectorizer(analyzer='word',stop_words='english')\n",
    "\n",
    "    # transform the training and validation data using count vectorizer object\n",
    "    #XT_train =  count.fit_transform(X_train[\"preV2\"])\n",
    "    #XT_test =  count.transform(X_test[\"preV2\"])\n",
    "    X_train=XC_train\n",
    "    X_test=XC_test\n",
    "    print(X_train.shape)\n",
    "    Xcol=np.array(XC_train.columns)\n",
    "       \n",
    "\n",
    "    if (featureselection==\"chi2\"):\n",
    "        chi2_selector = SelectKBest(chi2, k=number_of_chi2features)\n",
    "           \n",
    "        X_train = chi2_selector.fit_transform(X_train,y_train)\n",
    "        X_test=X_test[:,chi2_selector.get_support()]\n",
    "        chi2importance=chi2_selector.get_support()\n",
    "\n",
    "    elif (featureselection==\"None\"):\n",
    "        X_train=X_train\n",
    "\n",
    "\n",
    "    # %% Random forests\n",
    "    forest = RandomForestClassifier().fit(X_train, y_train)\n",
    "    forest_importance = forest.feature_importances_\n",
    "\n",
    "    y_predF = forest.predict(X_test)\n",
    "    #print(y_pred)\n",
    "    #print(y_test)\n",
    "    y_scoreF=forest.predict_proba(X_test)\n",
    "    y_score1F=y_scoreF[:,1]\n",
    "    #print(y_score)\n",
    "    #print(y_score1)\n",
    "    forest_results = calculate_performance(y_test, y_predF,y_score1F)\n",
    "    forest_rocdict=(y_test,y_score1F)\n",
    "        \n",
    "    # %% Random forests with ModelSelection\n",
    "    #sel = SelectFromModel(RandomForestClassifier(n_estimators = 1000)).fit(X_train, y_train)\n",
    "    #X_important_train = sel.transform(X_train)\n",
    "    #X_important_test = sel.transform(X_test)\n",
    "    #rf_important = RandomForestClassifier(n_estimators=1000, random_state=0, n_jobs=-1)\n",
    "    #rf_important.fit(X_important_train, y_train)\n",
    "    #rf_importance = rf_important.feature_importances_\n",
    "    #y_important_pred = rf_important.predict(X_important_test)\n",
    "    #y_important_score=rf_important.predict_proba(X_important_test)[:,1]\n",
    "    #rf_results = calculate_performance(y_test, y_important_pred,y_important_score)\n",
    "    #rf_rocdict=(y_test, y_important_score)\n",
    "\n",
    "    # %% SVM (Support Vector Machine) Linear\n",
    "    svm = SVC(kernel='linear',probability=True).fit(X_train, y_train)\n",
    "    y_predS = svm.predict(X_test)    \n",
    "    y_scoreS=svm.predict_proba(X_test)[:,1]\n",
    "    svm_results_linear = calculate_performance(y_test, y_predS,y_scoreS)\n",
    "    \n",
    "    svm_lin_rocdict=(y_test, y_scoreS)\n",
    "\n",
    "    # %% SVM (Support Vector Machine) RBF\n",
    "    #svm = SVC(kernel='rbf',probability=True).fit(X_train, y_train)  \n",
    "    #y_pred = svm.predict(X_test)   \n",
    "    #y_score=svm.predict_proba(X_test)[:,1]\n",
    "    #svm_results_rbf = calculate_performance(y_test, y_pred,y_score)\n",
    "    #svm_rbf_rocdict=(y_test, y_score)\n",
    "        \n",
    "    # %% Logistic Regression\n",
    "    lr = LogisticRegression().fit(X_train, y_train)   \n",
    "    y_predL = lr.predict(X_test) \n",
    "    y_scoreL=lr.predict_proba(X_test)[:,1]\n",
    "    lr_results = calculate_performance(y_test, y_predL,y_scoreL)\n",
    "    lr_rocdict=(y_test, y_scoreL)\n",
    "        \n",
    "    # %% Naive Bayes\n",
    "    clf = MultinomialNB().fit(X_train, y_train)\n",
    "    y_predN = clf.predict(X_test)   \n",
    "    y_scoreN=clf.predict_proba(X_test)[:,1]\n",
    "    nb_results = calculate_performance(y_test, y_predN,y_scoreN)\n",
    "    nb_rocdict=(y_test, y_scoreN)\n",
    "\n",
    "    resultsdict={\"RF\": forest_results,\n",
    "                #\"RFModelSelection\": rf_results,\n",
    "                \"SVM_lin\" : svm_results_linear,\n",
    "                #\"SVM_rbf\" : svm_results_rbf,\n",
    "                \"LR\" :lr_results,\n",
    "                \"NB\" : nb_results}\n",
    "    rocdicts={\"RF\": forest_rocdict, \n",
    "                #\"RFModelSelection\": rf_rocdict,          \n",
    "                \"SVM_lin\" : svm_lin_rocdict,\n",
    "                #\"SVM_rbf\" : svm_rbf_rocdict,\n",
    "                \"LR\" :lr_rocdict,\n",
    "                \"NB\" : nb_rocdict}\n",
    "\n",
    "    return resultsdict,rocdicts,forest_importance,Xcol\n",
    "#,rf_importance,Xcol"
   ]
  },
  {
   "cell_type": "code",
   "execution_count": 94,
   "metadata": {},
   "outputs": [],
   "source": [
    "def CombiModelsEval(featureselection,number_of_chi2features,X_train,X_test,y_train,y_test):\n",
    "\n",
    "    XC_train, XC_test= X_train.drop(\"pre2\", axis=1), X_test.drop(\"pre2\", axis=1)\n",
    "    # create a count vectorizer object \n",
    "    count = CountVectorizer(analyzer='word',max_df=0.85,stop_words='english',max_features=20000)\n",
    "\n",
    "    # transform the training and validation data using count vectorizer object\n",
    "    XT_train =  count.fit_transform(X_train[\"pre2\"])\n",
    "    XT_test =  count.transform(X_test[\"pre2\"])\n",
    "    X_train=hstack([XT_train,XC_train]).todense()\n",
    "    X_test=hstack([XT_test,XC_test]).todense()\n",
    "    print(X_train.shape)\n",
    "    Xcol=np.concatenate((np.array(count.get_feature_names()), np.array(XC_train.columns)), axis=0)\n",
    "       \n",
    "\n",
    "    if (featureselection==\"chi2\"):\n",
    "        chi2_selector = SelectKBest(chi2, k=number_of_chi2features)\n",
    "           \n",
    "        X_train = chi2_selector.fit_transform(X_train,y_train)\n",
    "        X_test=X_test[:,chi2_selector.get_support()]\n",
    "        chi2importance=chi2_selector.get_support()\n",
    "\n",
    "    elif (featureselection==\"None\"):\n",
    "        X_train=X_train\n",
    "\n",
    "\n",
    "    # %% Random forests\n",
    "    forest = RandomForestClassifier().fit(X_train, y_train)\n",
    "    forest_importance = forest.feature_importances_\n",
    "\n",
    "    y_predF = forest.predict(X_test)\n",
    "    #print(y_pred)\n",
    "    #print(y_test)\n",
    "    y_scoreF=forest.predict_proba(X_test)\n",
    "    y_score1F=y_scoreF[:,1]\n",
    "    #print(y_score)\n",
    "    #print(y_score1)\n",
    "    forest_results = calculate_performance(y_test, y_predF,y_score1F)\n",
    "    forest_rocdict=(y_test,y_score1F)\n",
    "        \n",
    "    # %% Random forests with ModelSelection\n",
    "    #sel = SelectFromModel(RandomForestClassifier(n_estimators = 1000)).fit(X_train, y_train)\n",
    "    #X_important_train = sel.transform(X_train)\n",
    "    #X_important_test = sel.transform(X_test)\n",
    "    #rf_important = RandomForestClassifier(n_estimators=1000, random_state=0, n_jobs=-1)\n",
    "    #rf_important.fit(X_important_train, y_train)\n",
    "    #rf_importance = rf_important.feature_importances_\n",
    "    #y_important_pred = rf_important.predict(X_important_test)\n",
    "    #y_important_score=rf_important.predict_proba(X_important_test)[:,1]\n",
    "    #rf_results = calculate_performance(y_test, y_important_pred,y_important_score)\n",
    "    #rf_rocdict=(y_test, y_important_score)\n",
    "\n",
    "    # %% SVM (Support Vector Machine) Linear\n",
    "    svm = SVC(kernel='linear',probability=True).fit(X_train, y_train)\n",
    "    y_predS = svm.predict(X_test)    \n",
    "    y_scoreS=svm.predict_proba(X_test)[:,1]\n",
    "    svm_results_linear = calculate_performance(y_test, y_predS,y_scoreS)\n",
    "    \n",
    "    svm_lin_rocdict=(y_test, y_scoreS)\n",
    "\n",
    "    # %% SVM (Support Vector Machine) RBF\n",
    "    #svm = SVC(kernel='rbf',probability=True).fit(X_train, y_train)  \n",
    "    #y_pred = svm.predict(X_test)   \n",
    "    #y_score=svm.predict_proba(X_test)[:,1]\n",
    "    #svm_results_rbf = calculate_performance(y_test, y_pred,y_score)\n",
    "    #svm_rbf_rocdict=(y_test, y_score)\n",
    "        \n",
    "    # %% Logistic Regression\n",
    "    lr = LogisticRegression().fit(X_train, y_train)   \n",
    "    y_predL = lr.predict(X_test) \n",
    "    y_scoreL=lr.predict_proba(X_test)[:,1]\n",
    "    lr_results = calculate_performance(y_test, y_predL,y_scoreL)\n",
    "    lr_rocdict=(y_test, y_scoreL)\n",
    "        \n",
    "    # %% Naive Bayes\n",
    "    clf = MultinomialNB().fit(X_train, y_train)\n",
    "    y_predN = clf.predict(X_test)   \n",
    "    y_scoreN=clf.predict_proba(X_test)[:,1]\n",
    "    nb_results = calculate_performance(y_test, y_predN,y_scoreN)\n",
    "    nb_rocdict=(y_test, y_scoreN)\n",
    "\n",
    "    resultsdict={\"RF\": forest_results,\n",
    "                #\"RFModelSelection\": rf_results,\n",
    "                \"SVM_lin\" : svm_results_linear,\n",
    "                #\"SVM_rbf\" : svm_results_rbf,\n",
    "                \"LR\" :lr_results,\n",
    "                \"NB\" : nb_results}\n",
    "    rocdicts={\"RF\": forest_rocdict, \n",
    "                #\"RFModelSelection\": rf_rocdict,          \n",
    "                \"SVM_lin\" : svm_lin_rocdict,\n",
    "                #\"SVM_rbf\" : svm_rbf_rocdict,\n",
    "                \"LR\" :lr_rocdict,\n",
    "                \"NB\" : nb_rocdict}\n",
    "\n",
    "    return resultsdict,rocdicts,forest_importance,Xcol\n",
    "#,rf_importance,Xcol"
   ]
  },
  {
   "cell_type": "code",
   "execution_count": 95,
   "metadata": {},
   "outputs": [],
   "source": [
    "def CombiModelsEval2(featureselection,number_of_chi2features,X_train,X_test,y_train,y_test):\n",
    "\n",
    "    XC_train, XC_test= X_train.drop(\"pre2\", axis=1), X_test.drop(\"pre2\", axis=1)\n",
    "    # create a count vectorizer object \n",
    "    #count = CountVectorizer(analyzer='word',stop_words='english')\n",
    "    tfidf_vect = TfidfVectorizer(analyzer='word',stop_words='english')\n",
    "    # transform the training and validation data using count vectorizer object\n",
    "    XT_train =  tfidf_vect.fit_transform(X_train[\"pre2\"])\n",
    "    XT_test =  tfidf_vect.transform(X_test[\"pre2\"])\n",
    "    X_train=hstack([XT_train,XC_train]).todense()\n",
    "    X_test=hstack([XT_test,XC_test]).todense()\n",
    "    print(X_train.shape)\n",
    "    Xcol=np.concatenate((np.array(tfidf_vect.get_feature_names()), np.array(XC_train.columns)), axis=0)\n",
    "       \n",
    "\n",
    "    if (featureselection==\"chi2\"):\n",
    "        chi2_selector = SelectKBest(chi2, k=number_of_chi2features)\n",
    "           \n",
    "        X_train = chi2_selector.fit_transform(X_train,y_train)\n",
    "        X_test=X_test[:,chi2_selector.get_support()]\n",
    "        chi2importance=chi2_selector.get_support()\n",
    "\n",
    "    elif (featureselection==\"None\"):\n",
    "        X_train=X_train\n",
    "\n",
    "\n",
    "    # %% Random forests\n",
    "    forest = RandomForestClassifier().fit(X_train, y_train)\n",
    "    forest_importance = forest.feature_importances_\n",
    "\n",
    "    y_predF = forest.predict(X_test)\n",
    "    #print(y_pred)\n",
    "    #print(y_test)\n",
    "    y_scoreF=forest.predict_proba(X_test)\n",
    "    y_score1F=y_scoreF[:,1]\n",
    "    #print(y_score)\n",
    "    #print(y_score1)\n",
    "    forest_results = calculate_performance(y_test, y_predF,y_score1F)\n",
    "    forest_rocdict=(y_test,y_score1F)\n",
    "        \n",
    "    # %% SVM (Support Vector Machine) Linear\n",
    "    svm = SVC(kernel='linear',probability=True).fit(X_train, y_train)\n",
    "    y_predS = svm.predict(X_test)    \n",
    "    y_scoreS=svm.predict_proba(X_test)[:,1]\n",
    "    svm_results_linear = calculate_performance(y_test, y_predS,y_scoreS)\n",
    "    \n",
    "    svm_lin_rocdict=(y_test, y_scoreS)\n",
    "\n",
    "        \n",
    "    # %% Logistic Regression\n",
    "    lr = LogisticRegression().fit(X_train, y_train)   \n",
    "    y_predL = lr.predict(X_test) \n",
    "    y_scoreL=lr.predict_proba(X_test)[:,1]\n",
    "    lr_results = calculate_performance(y_test, y_predL,y_scoreL)\n",
    "    lr_rocdict=(y_test, y_scoreL)\n",
    "        \n",
    "    # %% Naive Bayes\n",
    "    clf = MultinomialNB().fit(X_train, y_train)\n",
    "    y_predN = clf.predict(X_test)   \n",
    "    y_scoreN=clf.predict_proba(X_test)[:,1]\n",
    "    nb_results = calculate_performance(y_test, y_predN,y_scoreN)\n",
    "    nb_rocdict=(y_test, y_scoreN)\n",
    "\n",
    "    resultsdict={\"RF\": forest_results,\n",
    "                #\"RFModelSelection\": rf_results,\n",
    "                \"SVM_lin\" : svm_results_linear,\n",
    "                #\"SVM_rbf\" : svm_results_rbf,\n",
    "                \"LR\" :lr_results,\n",
    "                \"NB\" : nb_results}\n",
    "    rocdicts={\"RF\": forest_rocdict, \n",
    "                #\"RFModelSelection\": rf_rocdict,          \n",
    "                \"SVM_lin\" : svm_lin_rocdict,\n",
    "                #\"SVM_rbf\" : svm_rbf_rocdict,\n",
    "                \"LR\" :lr_rocdict,\n",
    "                \"NB\" : nb_rocdict}\n",
    "\n",
    "    return resultsdict,rocdicts,forest_importance,Xcol\n",
    "#,rf_importance"
   ]
  },
  {
   "cell_type": "code",
   "execution_count": null,
   "metadata": {},
   "outputs": [],
   "source": []
  },
  {
   "cell_type": "code",
   "execution_count": null,
   "metadata": {},
   "outputs": [],
   "source": []
  },
  {
   "cell_type": "code",
   "execution_count": 29,
   "metadata": {
    "collapsed": true
   },
   "outputs": [
    {
     "ename": "NameError",
     "evalue": "name 'model1' is not defined",
     "output_type": "error",
     "traceback": [
      "\u001b[0;31m---------------------------------------------------------------------------\u001b[0m",
      "\u001b[0;31mNameError\u001b[0m                                 Traceback (most recent call last)",
      "\u001b[0;32m<ipython-input-29-838add6bfbce>\u001b[0m in \u001b[0;36m<module>\u001b[0;34m\u001b[0m\n\u001b[0;32m----> 1\u001b[0;31m \u001b[0mHan2\u001b[0m \u001b[0;34m=\u001b[0m \u001b[0mmodel1\u001b[0m\u001b[0;34m[\u001b[0m\u001b[0;36m0\u001b[0m\u001b[0;34m]\u001b[0m\u001b[0;34m.\u001b[0m\u001b[0mfit\u001b[0m\u001b[0;34m(\u001b[0m\u001b[0;34m[\u001b[0m\u001b[0mx_train\u001b[0m\u001b[0;34m,\u001b[0m\u001b[0mXQ_train\u001b[0m\u001b[0;34m]\u001b[0m\u001b[0;34m,\u001b[0m \u001b[0my_train\u001b[0m\u001b[0;34m,\u001b[0m \u001b[0mvalidation_data\u001b[0m\u001b[0;34m=\u001b[0m\u001b[0;34m(\u001b[0m\u001b[0;34m[\u001b[0m\u001b[0mx_val\u001b[0m\u001b[0;34m,\u001b[0m\u001b[0mXQ_val\u001b[0m\u001b[0;34m]\u001b[0m\u001b[0;34m,\u001b[0m \u001b[0my_val\u001b[0m\u001b[0;34m)\u001b[0m\u001b[0;34m,\u001b[0m \u001b[0mepochs\u001b[0m\u001b[0;34m=\u001b[0m\u001b[0;36m3\u001b[0m\u001b[0;34m,\u001b[0m \u001b[0mbatch_size\u001b[0m\u001b[0;34m=\u001b[0m\u001b[0;36m32\u001b[0m\u001b[0;34m,\u001b[0m\u001b[0mcallbacks\u001b[0m\u001b[0;34m=\u001b[0m\u001b[0;34m[\u001b[0m\u001b[0mRocAuc\u001b[0m\u001b[0;34m,\u001b[0m\u001b[0mcheckpointer\u001b[0m\u001b[0;34m]\u001b[0m\u001b[0;34m)\u001b[0m\u001b[0;34m\u001b[0m\u001b[0;34m\u001b[0m\u001b[0m\n\u001b[0m",
      "\u001b[0;31mNameError\u001b[0m: name 'model1' is not defined"
     ]
    }
   ],
   "source": [
    "Han2 = model1[0].fit([x_train,XQ_train], y_train, validation_data=([x_val,XQ_val], y_val), epochs=3, batch_size=32,callbacks=[RocAuc,checkpointer])\n"
   ]
  },
  {
   "cell_type": "code",
   "execution_count": 78,
   "metadata": {},
   "outputs": [],
   "source": [
    "sentEncoder = Model(inputs = sent_input,outputs = sent_att)\n",
    "doc1=sentEncoder.predict((np.resize(data[1],(1,max_sentences,maxlen))))"
   ]
  },
  {
   "cell_type": "code",
   "execution_count": 80,
   "metadata": {},
   "outputs": [],
   "source": [
    "doc1=sentEncoder.predict((np.resize(data[1],(1,max_sentences,maxlen))))"
   ]
  },
  {
   "cell_type": "code",
   "execution_count": 86,
   "metadata": {
    "collapsed": true
   },
   "outputs": [
    {
     "ename": "TypeError",
     "evalue": "'Model' object does not support indexing",
     "output_type": "error",
     "traceback": [
      "\u001b[0;31m---------------------------------------------------------------------------\u001b[0m",
      "\u001b[0;31mTypeError\u001b[0m                                 Traceback (most recent call last)",
      "\u001b[0;32m<ipython-input-86-b4ddc2c97e77>\u001b[0m in \u001b[0;36m<module>\u001b[0;34m\u001b[0m\n\u001b[0;32m----> 1\u001b[0;31m \u001b[0msentEncoder\u001b[0m\u001b[0;34m[\u001b[0m\u001b[0;36m1\u001b[0m\u001b[0;34m]\u001b[0m\u001b[0;34m\u001b[0m\u001b[0;34m\u001b[0m\u001b[0m\n\u001b[0m",
      "\u001b[0;31mTypeError\u001b[0m: 'Model' object does not support indexing"
     ]
    }
   ],
   "source": [
    "sentEncoder[1]"
   ]
  },
  {
   "cell_type": "code",
   "execution_count": 66,
   "metadata": {},
   "outputs": [
    {
     "data": {
      "text/plain": [
       "Subtensor{int64}.0"
      ]
     },
     "execution_count": 66,
     "metadata": {},
     "output_type": "execute_result"
    }
   ],
   "source": [
    "sent_att[10000]"
   ]
  },
  {
   "cell_type": "code",
   "execution_count": 43,
   "metadata": {},
   "outputs": [
    {
     "data": {
      "text/plain": [
       "<bound method _tensor_py_operators.reshape of Subtensor{int64}.0>"
      ]
     },
     "execution_count": 43,
     "metadata": {},
     "output_type": "execute_result"
    }
   ],
   "source": [
    "sent_att[2].reshape"
   ]
  },
  {
   "cell_type": "code",
   "execution_count": 54,
   "metadata": {},
   "outputs": [
    {
     "data": {
      "text/plain": [
       "Reshape{2}.0"
      ]
     },
     "execution_count": 54,
     "metadata": {},
     "output_type": "execute_result"
    }
   ],
   "source": [
    "K.reshape(sent_att,(2,6))"
   ]
  },
  {
   "cell_type": "code",
   "execution_count": 57,
   "metadata": {},
   "outputs": [
    {
     "data": {
      "text/plain": [
       "TensorType(float32, matrix)"
      ]
     },
     "execution_count": 57,
     "metadata": {},
     "output_type": "execute_result"
    }
   ],
   "source": [
    "sent_att.type"
   ]
  },
  {
   "cell_type": "code",
   "execution_count": 44,
   "metadata": {
    "collapsed": true
   },
   "outputs": [
    {
     "ename": "ValueError",
     "evalue": "setting an array element with a sequence.",
     "output_type": "error",
     "traceback": [
      "\u001b[0;31m---------------------------------------------------------------------------\u001b[0m",
      "\u001b[0;31mValueError\u001b[0m                                Traceback (most recent call last)",
      "\u001b[0;32m<ipython-input-44-a83878dd915c>\u001b[0m in \u001b[0;36m<module>\u001b[0;34m\u001b[0m\n\u001b[0;32m----> 1\u001b[0;31m \u001b[0msvm\u001b[0m \u001b[0;34m=\u001b[0m \u001b[0mSVC\u001b[0m\u001b[0;34m(\u001b[0m\u001b[0mkernel\u001b[0m\u001b[0;34m=\u001b[0m\u001b[0;34m'linear'\u001b[0m\u001b[0;34m,\u001b[0m\u001b[0mprobability\u001b[0m\u001b[0;34m=\u001b[0m\u001b[0;32mTrue\u001b[0m\u001b[0;34m)\u001b[0m\u001b[0;34m.\u001b[0m\u001b[0mfit\u001b[0m\u001b[0;34m(\u001b[0m\u001b[0msent_att\u001b[0m\u001b[0;34m,\u001b[0m \u001b[0my_train\u001b[0m\u001b[0;34m)\u001b[0m\u001b[0;34m\u001b[0m\u001b[0;34m\u001b[0m\u001b[0m\n\u001b[0m\u001b[1;32m      2\u001b[0m \u001b[0my_predS\u001b[0m \u001b[0;34m=\u001b[0m \u001b[0msvm\u001b[0m\u001b[0;34m.\u001b[0m\u001b[0mpredict\u001b[0m\u001b[0;34m(\u001b[0m\u001b[0mX_test\u001b[0m\u001b[0;34m)\u001b[0m\u001b[0;34m\u001b[0m\u001b[0;34m\u001b[0m\u001b[0m\n\u001b[1;32m      3\u001b[0m \u001b[0my_scoreS\u001b[0m\u001b[0;34m=\u001b[0m\u001b[0msvm\u001b[0m\u001b[0;34m.\u001b[0m\u001b[0mpredict_proba\u001b[0m\u001b[0;34m(\u001b[0m\u001b[0mX_test\u001b[0m\u001b[0;34m)\u001b[0m\u001b[0;34m[\u001b[0m\u001b[0;34m:\u001b[0m\u001b[0;34m,\u001b[0m\u001b[0;36m1\u001b[0m\u001b[0;34m]\u001b[0m\u001b[0;34m\u001b[0m\u001b[0;34m\u001b[0m\u001b[0m\n\u001b[1;32m      4\u001b[0m \u001b[0msvm_results_linear\u001b[0m \u001b[0;34m=\u001b[0m \u001b[0mcalculate_performance\u001b[0m\u001b[0;34m(\u001b[0m\u001b[0my_test\u001b[0m\u001b[0;34m,\u001b[0m \u001b[0my_predS\u001b[0m\u001b[0;34m,\u001b[0m\u001b[0my_scoreS\u001b[0m\u001b[0;34m)\u001b[0m\u001b[0;34m\u001b[0m\u001b[0;34m\u001b[0m\u001b[0m\n",
      "\u001b[0;32m~/.conda/envs/kerasspring/lib/python3.6/site-packages/sklearn/svm/base.py\u001b[0m in \u001b[0;36mfit\u001b[0;34m(self, X, y, sample_weight)\u001b[0m\n\u001b[1;32m    144\u001b[0m         X, y = check_X_y(X, y, dtype=np.float64,\n\u001b[1;32m    145\u001b[0m                          \u001b[0morder\u001b[0m\u001b[0;34m=\u001b[0m\u001b[0;34m'C'\u001b[0m\u001b[0;34m,\u001b[0m \u001b[0maccept_sparse\u001b[0m\u001b[0;34m=\u001b[0m\u001b[0;34m'csr'\u001b[0m\u001b[0;34m,\u001b[0m\u001b[0;34m\u001b[0m\u001b[0;34m\u001b[0m\u001b[0m\n\u001b[0;32m--> 146\u001b[0;31m                          accept_large_sparse=False)\n\u001b[0m\u001b[1;32m    147\u001b[0m         \u001b[0my\u001b[0m \u001b[0;34m=\u001b[0m \u001b[0mself\u001b[0m\u001b[0;34m.\u001b[0m\u001b[0m_validate_targets\u001b[0m\u001b[0;34m(\u001b[0m\u001b[0my\u001b[0m\u001b[0;34m)\u001b[0m\u001b[0;34m\u001b[0m\u001b[0;34m\u001b[0m\u001b[0m\n\u001b[1;32m    148\u001b[0m \u001b[0;34m\u001b[0m\u001b[0m\n",
      "\u001b[0;32m~/.conda/envs/kerasspring/lib/python3.6/site-packages/sklearn/utils/validation.py\u001b[0m in \u001b[0;36mcheck_X_y\u001b[0;34m(X, y, accept_sparse, accept_large_sparse, dtype, order, copy, force_all_finite, ensure_2d, allow_nd, multi_output, ensure_min_samples, ensure_min_features, y_numeric, warn_on_dtype, estimator)\u001b[0m\n\u001b[1;32m    717\u001b[0m                     \u001b[0mensure_min_features\u001b[0m\u001b[0;34m=\u001b[0m\u001b[0mensure_min_features\u001b[0m\u001b[0;34m,\u001b[0m\u001b[0;34m\u001b[0m\u001b[0;34m\u001b[0m\u001b[0m\n\u001b[1;32m    718\u001b[0m                     \u001b[0mwarn_on_dtype\u001b[0m\u001b[0;34m=\u001b[0m\u001b[0mwarn_on_dtype\u001b[0m\u001b[0;34m,\u001b[0m\u001b[0;34m\u001b[0m\u001b[0;34m\u001b[0m\u001b[0m\n\u001b[0;32m--> 719\u001b[0;31m                     estimator=estimator)\n\u001b[0m\u001b[1;32m    720\u001b[0m     \u001b[0;32mif\u001b[0m \u001b[0mmulti_output\u001b[0m\u001b[0;34m:\u001b[0m\u001b[0;34m\u001b[0m\u001b[0;34m\u001b[0m\u001b[0m\n\u001b[1;32m    721\u001b[0m         y = check_array(y, 'csr', force_all_finite=True, ensure_2d=False,\n",
      "\u001b[0;32m~/.conda/envs/kerasspring/lib/python3.6/site-packages/sklearn/utils/validation.py\u001b[0m in \u001b[0;36mcheck_array\u001b[0;34m(array, accept_sparse, accept_large_sparse, dtype, order, copy, force_all_finite, ensure_2d, allow_nd, ensure_min_samples, ensure_min_features, warn_on_dtype, estimator)\u001b[0m\n\u001b[1;32m    494\u001b[0m             \u001b[0;32mtry\u001b[0m\u001b[0;34m:\u001b[0m\u001b[0;34m\u001b[0m\u001b[0;34m\u001b[0m\u001b[0m\n\u001b[1;32m    495\u001b[0m                 \u001b[0mwarnings\u001b[0m\u001b[0;34m.\u001b[0m\u001b[0msimplefilter\u001b[0m\u001b[0;34m(\u001b[0m\u001b[0;34m'error'\u001b[0m\u001b[0;34m,\u001b[0m \u001b[0mComplexWarning\u001b[0m\u001b[0;34m)\u001b[0m\u001b[0;34m\u001b[0m\u001b[0;34m\u001b[0m\u001b[0m\n\u001b[0;32m--> 496\u001b[0;31m                 \u001b[0marray\u001b[0m \u001b[0;34m=\u001b[0m \u001b[0mnp\u001b[0m\u001b[0;34m.\u001b[0m\u001b[0masarray\u001b[0m\u001b[0;34m(\u001b[0m\u001b[0marray\u001b[0m\u001b[0;34m,\u001b[0m \u001b[0mdtype\u001b[0m\u001b[0;34m=\u001b[0m\u001b[0mdtype\u001b[0m\u001b[0;34m,\u001b[0m \u001b[0morder\u001b[0m\u001b[0;34m=\u001b[0m\u001b[0morder\u001b[0m\u001b[0;34m)\u001b[0m\u001b[0;34m\u001b[0m\u001b[0;34m\u001b[0m\u001b[0m\n\u001b[0m\u001b[1;32m    497\u001b[0m             \u001b[0;32mexcept\u001b[0m \u001b[0mComplexWarning\u001b[0m\u001b[0;34m:\u001b[0m\u001b[0;34m\u001b[0m\u001b[0;34m\u001b[0m\u001b[0m\n\u001b[1;32m    498\u001b[0m                 raise ValueError(\"Complex data not supported\\n\"\n",
      "\u001b[0;32m~/.conda/envs/kerasspring/lib/python3.6/site-packages/numpy/core/numeric.py\u001b[0m in \u001b[0;36masarray\u001b[0;34m(a, dtype, order)\u001b[0m\n\u001b[1;32m    499\u001b[0m \u001b[0;34m\u001b[0m\u001b[0m\n\u001b[1;32m    500\u001b[0m     \"\"\"\n\u001b[0;32m--> 501\u001b[0;31m     \u001b[0;32mreturn\u001b[0m \u001b[0marray\u001b[0m\u001b[0;34m(\u001b[0m\u001b[0ma\u001b[0m\u001b[0;34m,\u001b[0m \u001b[0mdtype\u001b[0m\u001b[0;34m,\u001b[0m \u001b[0mcopy\u001b[0m\u001b[0;34m=\u001b[0m\u001b[0;32mFalse\u001b[0m\u001b[0;34m,\u001b[0m \u001b[0morder\u001b[0m\u001b[0;34m=\u001b[0m\u001b[0morder\u001b[0m\u001b[0;34m)\u001b[0m\u001b[0;34m\u001b[0m\u001b[0;34m\u001b[0m\u001b[0m\n\u001b[0m\u001b[1;32m    502\u001b[0m \u001b[0;34m\u001b[0m\u001b[0m\n\u001b[1;32m    503\u001b[0m \u001b[0;34m\u001b[0m\u001b[0m\n",
      "\u001b[0;31mValueError\u001b[0m: setting an array element with a sequence."
     ]
    }
   ],
   "source": [
    "svm = SVC(kernel='linear',probability=True).fit(sent_att, y_train)\n",
    "y_predS = svm.predict(X_test)    \n",
    "y_scoreS=svm.predict_proba(X_test)[:,1]\n",
    "svm_results_linear = calculate_performance(y_test, y_predS,y_scoreS)"
   ]
  },
  {
   "cell_type": "code",
   "execution_count": 58,
   "metadata": {},
   "outputs": [
    {
     "data": {
      "text/plain": [
       "theano.tensor.var.TensorVariable"
      ]
     },
     "execution_count": 58,
     "metadata": {},
     "output_type": "execute_result"
    }
   ],
   "source": [
    "type(sent_att)"
   ]
  },
  {
   "cell_type": "code",
   "execution_count": 54,
   "metadata": {
    "collapsed": true
   },
   "outputs": [
    {
     "ename": "MissingInputError",
     "evalue": "Input 0 of the graph (indices start from 0), used to compute Reshape{2}(/sent_input, TensorConstant{[-1 38]}), was not provided and not given a value. Use the Theano flag exception_verbosity='high', for more information on this error.\n \nBacktrace when that variable is created:\n\n  File \"/home/RDC/crajapax/.conda/envs/kerasspring/lib/python3.6/site-packages/IPython/core/interactiveshell.py\", line 3058, in run_cell_async\n    interactivity=interactivity, compiler=compiler, result=result)\n  File \"/home/RDC/crajapax/.conda/envs/kerasspring/lib/python3.6/site-packages/IPython/core/interactiveshell.py\", line 3249, in run_ast_nodes\n    if (await self.run_code(code, result,  async_=asy)):\n  File \"/home/RDC/crajapax/.conda/envs/kerasspring/lib/python3.6/site-packages/IPython/core/interactiveshell.py\", line 3326, in run_code\n    exec(code_obj, self.user_global_ns, self.user_ns)\n  File \"<ipython-input-31-7e492e76391c>\", line 17, in <module>\n    sent_input = Input(shape=(max_sentences,maxlen), dtype='int32',name='sent_input')\n  File \"/home/RDC/crajapax/.conda/envs/kerasspring/lib/python3.6/site-packages/keras/engine/input_layer.py\", line 178, in Input\n    input_tensor=tensor)\n  File \"/home/RDC/crajapax/.conda/envs/kerasspring/lib/python3.6/site-packages/keras/legacy/interfaces.py\", line 91, in wrapper\n    return func(*args, **kwargs)\n  File \"/home/RDC/crajapax/.conda/envs/kerasspring/lib/python3.6/site-packages/keras/engine/input_layer.py\", line 87, in __init__\n    name=self.name)\n  File \"/home/RDC/crajapax/.conda/envs/kerasspring/lib/python3.6/site-packages/keras/backend/theano_backend.py\", line 254, in placeholder\n    x = T.TensorType(dtype, broadcast)(name)\n",
     "output_type": "error",
     "traceback": [
      "\u001b[0;31m---------------------------------------------------------------------------\u001b[0m",
      "\u001b[0;31mMissingInputError\u001b[0m                         Traceback (most recent call last)",
      "\u001b[0;32m<ipython-input-54-10e2bad406cb>\u001b[0m in \u001b[0;36m<module>\u001b[0;34m\u001b[0m\n\u001b[0;32m----> 1\u001b[0;31m \u001b[0msent_att\u001b[0m\u001b[0;34m[\u001b[0m\u001b[0;36m0\u001b[0m\u001b[0;34m]\u001b[0m\u001b[0;34m.\u001b[0m\u001b[0meval\u001b[0m\u001b[0;34m(\u001b[0m\u001b[0;34m)\u001b[0m\u001b[0;34m\u001b[0m\u001b[0;34m\u001b[0m\u001b[0m\n\u001b[0m",
      "\u001b[0;32m~/.conda/envs/kerasspring/lib/python3.6/site-packages/theano/gof/graph.py\u001b[0m in \u001b[0;36meval\u001b[0;34m(self, inputs_to_values)\u001b[0m\n\u001b[1;32m    520\u001b[0m         \u001b[0minputs\u001b[0m \u001b[0;34m=\u001b[0m \u001b[0mtuple\u001b[0m\u001b[0;34m(\u001b[0m\u001b[0msorted\u001b[0m\u001b[0;34m(\u001b[0m\u001b[0minputs_to_values\u001b[0m\u001b[0;34m.\u001b[0m\u001b[0mkeys\u001b[0m\u001b[0;34m(\u001b[0m\u001b[0;34m)\u001b[0m\u001b[0;34m,\u001b[0m \u001b[0mkey\u001b[0m\u001b[0;34m=\u001b[0m\u001b[0mid\u001b[0m\u001b[0;34m)\u001b[0m\u001b[0;34m)\u001b[0m\u001b[0;34m\u001b[0m\u001b[0;34m\u001b[0m\u001b[0m\n\u001b[1;32m    521\u001b[0m         \u001b[0;32mif\u001b[0m \u001b[0minputs\u001b[0m \u001b[0;32mnot\u001b[0m \u001b[0;32min\u001b[0m \u001b[0mself\u001b[0m\u001b[0;34m.\u001b[0m\u001b[0m_fn_cache\u001b[0m\u001b[0;34m:\u001b[0m\u001b[0;34m\u001b[0m\u001b[0;34m\u001b[0m\u001b[0m\n\u001b[0;32m--> 522\u001b[0;31m             \u001b[0mself\u001b[0m\u001b[0;34m.\u001b[0m\u001b[0m_fn_cache\u001b[0m\u001b[0;34m[\u001b[0m\u001b[0minputs\u001b[0m\u001b[0;34m]\u001b[0m \u001b[0;34m=\u001b[0m \u001b[0mtheano\u001b[0m\u001b[0;34m.\u001b[0m\u001b[0mfunction\u001b[0m\u001b[0;34m(\u001b[0m\u001b[0minputs\u001b[0m\u001b[0;34m,\u001b[0m \u001b[0mself\u001b[0m\u001b[0;34m)\u001b[0m\u001b[0;34m\u001b[0m\u001b[0;34m\u001b[0m\u001b[0m\n\u001b[0m\u001b[1;32m    523\u001b[0m         \u001b[0margs\u001b[0m \u001b[0;34m=\u001b[0m \u001b[0;34m[\u001b[0m\u001b[0minputs_to_values\u001b[0m\u001b[0;34m[\u001b[0m\u001b[0mparam\u001b[0m\u001b[0;34m]\u001b[0m \u001b[0;32mfor\u001b[0m \u001b[0mparam\u001b[0m \u001b[0;32min\u001b[0m \u001b[0minputs\u001b[0m\u001b[0;34m]\u001b[0m\u001b[0;34m\u001b[0m\u001b[0;34m\u001b[0m\u001b[0m\n\u001b[1;32m    524\u001b[0m \u001b[0;34m\u001b[0m\u001b[0m\n",
      "\u001b[0;32m~/.conda/envs/kerasspring/lib/python3.6/site-packages/theano/compile/function.py\u001b[0m in \u001b[0;36mfunction\u001b[0;34m(inputs, outputs, mode, updates, givens, no_default_updates, accept_inplace, name, rebuild_strict, allow_input_downcast, profile, on_unused_input)\u001b[0m\n\u001b[1;32m    315\u001b[0m                    \u001b[0mon_unused_input\u001b[0m\u001b[0;34m=\u001b[0m\u001b[0mon_unused_input\u001b[0m\u001b[0;34m,\u001b[0m\u001b[0;34m\u001b[0m\u001b[0;34m\u001b[0m\u001b[0m\n\u001b[1;32m    316\u001b[0m                    \u001b[0mprofile\u001b[0m\u001b[0;34m=\u001b[0m\u001b[0mprofile\u001b[0m\u001b[0;34m,\u001b[0m\u001b[0;34m\u001b[0m\u001b[0;34m\u001b[0m\u001b[0m\n\u001b[0;32m--> 317\u001b[0;31m                    output_keys=output_keys)\n\u001b[0m\u001b[1;32m    318\u001b[0m     \u001b[0;32mreturn\u001b[0m \u001b[0mfn\u001b[0m\u001b[0;34m\u001b[0m\u001b[0;34m\u001b[0m\u001b[0m\n",
      "\u001b[0;32m~/.conda/envs/kerasspring/lib/python3.6/site-packages/theano/compile/pfunc.py\u001b[0m in \u001b[0;36mpfunc\u001b[0;34m(params, outputs, mode, updates, givens, no_default_updates, accept_inplace, name, rebuild_strict, allow_input_downcast, profile, on_unused_input, output_keys)\u001b[0m\n\u001b[1;32m    484\u001b[0m                          \u001b[0maccept_inplace\u001b[0m\u001b[0;34m=\u001b[0m\u001b[0maccept_inplace\u001b[0m\u001b[0;34m,\u001b[0m \u001b[0mname\u001b[0m\u001b[0;34m=\u001b[0m\u001b[0mname\u001b[0m\u001b[0;34m,\u001b[0m\u001b[0;34m\u001b[0m\u001b[0;34m\u001b[0m\u001b[0m\n\u001b[1;32m    485\u001b[0m                          \u001b[0mprofile\u001b[0m\u001b[0;34m=\u001b[0m\u001b[0mprofile\u001b[0m\u001b[0;34m,\u001b[0m \u001b[0mon_unused_input\u001b[0m\u001b[0;34m=\u001b[0m\u001b[0mon_unused_input\u001b[0m\u001b[0;34m,\u001b[0m\u001b[0;34m\u001b[0m\u001b[0;34m\u001b[0m\u001b[0m\n\u001b[0;32m--> 486\u001b[0;31m                          output_keys=output_keys)\n\u001b[0m\u001b[1;32m    487\u001b[0m \u001b[0;34m\u001b[0m\u001b[0m\n\u001b[1;32m    488\u001b[0m \u001b[0;34m\u001b[0m\u001b[0m\n",
      "\u001b[0;32m~/.conda/envs/kerasspring/lib/python3.6/site-packages/theano/compile/function_module.py\u001b[0m in \u001b[0;36morig_function\u001b[0;34m(inputs, outputs, mode, accept_inplace, name, profile, on_unused_input, output_keys)\u001b[0m\n\u001b[1;32m   1837\u001b[0m                   \u001b[0mon_unused_input\u001b[0m\u001b[0;34m=\u001b[0m\u001b[0mon_unused_input\u001b[0m\u001b[0;34m,\u001b[0m\u001b[0;34m\u001b[0m\u001b[0;34m\u001b[0m\u001b[0m\n\u001b[1;32m   1838\u001b[0m                   \u001b[0moutput_keys\u001b[0m\u001b[0;34m=\u001b[0m\u001b[0moutput_keys\u001b[0m\u001b[0;34m,\u001b[0m\u001b[0;34m\u001b[0m\u001b[0;34m\u001b[0m\u001b[0m\n\u001b[0;32m-> 1839\u001b[0;31m                   name=name)\n\u001b[0m\u001b[1;32m   1840\u001b[0m         \u001b[0;32mwith\u001b[0m \u001b[0mtheano\u001b[0m\u001b[0;34m.\u001b[0m\u001b[0mchange_flags\u001b[0m\u001b[0;34m(\u001b[0m\u001b[0mcompute_test_value\u001b[0m\u001b[0;34m=\u001b[0m\u001b[0;34m\"off\"\u001b[0m\u001b[0;34m)\u001b[0m\u001b[0;34m:\u001b[0m\u001b[0;34m\u001b[0m\u001b[0;34m\u001b[0m\u001b[0m\n\u001b[1;32m   1841\u001b[0m             \u001b[0mfn\u001b[0m \u001b[0;34m=\u001b[0m \u001b[0mm\u001b[0m\u001b[0;34m.\u001b[0m\u001b[0mcreate\u001b[0m\u001b[0;34m(\u001b[0m\u001b[0mdefaults\u001b[0m\u001b[0;34m)\u001b[0m\u001b[0;34m\u001b[0m\u001b[0;34m\u001b[0m\u001b[0m\n",
      "\u001b[0;32m~/.conda/envs/kerasspring/lib/python3.6/site-packages/theano/compile/function_module.py\u001b[0m in \u001b[0;36m__init__\u001b[0;34m(self, inputs, outputs, mode, accept_inplace, function_builder, profile, on_unused_input, fgraph, output_keys, name)\u001b[0m\n\u001b[1;32m   1485\u001b[0m             \u001b[0;31m# OUTPUT VARIABLES)\u001b[0m\u001b[0;34m\u001b[0m\u001b[0;34m\u001b[0m\u001b[0;34m\u001b[0m\u001b[0m\n\u001b[1;32m   1486\u001b[0m             fgraph, additional_outputs = std_fgraph(inputs, outputs,\n\u001b[0;32m-> 1487\u001b[0;31m                                                     accept_inplace)\n\u001b[0m\u001b[1;32m   1488\u001b[0m             \u001b[0mfgraph\u001b[0m\u001b[0;34m.\u001b[0m\u001b[0mprofile\u001b[0m \u001b[0;34m=\u001b[0m \u001b[0mprofile\u001b[0m\u001b[0;34m\u001b[0m\u001b[0;34m\u001b[0m\u001b[0m\n\u001b[1;32m   1489\u001b[0m         \u001b[0;32melse\u001b[0m\u001b[0;34m:\u001b[0m\u001b[0;34m\u001b[0m\u001b[0;34m\u001b[0m\u001b[0m\n",
      "\u001b[0;32m~/.conda/envs/kerasspring/lib/python3.6/site-packages/theano/compile/function_module.py\u001b[0m in \u001b[0;36mstd_fgraph\u001b[0;34m(input_specs, output_specs, accept_inplace)\u001b[0m\n\u001b[1;32m    179\u001b[0m \u001b[0;34m\u001b[0m\u001b[0m\n\u001b[1;32m    180\u001b[0m     fgraph = gof.fg.FunctionGraph(orig_inputs, orig_outputs,\n\u001b[0;32m--> 181\u001b[0;31m                                   update_mapping=update_mapping)\n\u001b[0m\u001b[1;32m    182\u001b[0m \u001b[0;34m\u001b[0m\u001b[0m\n\u001b[1;32m    183\u001b[0m     \u001b[0;32mfor\u001b[0m \u001b[0mnode\u001b[0m \u001b[0;32min\u001b[0m \u001b[0mfgraph\u001b[0m\u001b[0;34m.\u001b[0m\u001b[0mapply_nodes\u001b[0m\u001b[0;34m:\u001b[0m\u001b[0;34m\u001b[0m\u001b[0;34m\u001b[0m\u001b[0m\n",
      "\u001b[0;32m~/.conda/envs/kerasspring/lib/python3.6/site-packages/theano/gof/fg.py\u001b[0m in \u001b[0;36m__init__\u001b[0;34m(self, inputs, outputs, features, clone, update_mapping)\u001b[0m\n\u001b[1;32m    173\u001b[0m \u001b[0;34m\u001b[0m\u001b[0m\n\u001b[1;32m    174\u001b[0m         \u001b[0;32mfor\u001b[0m \u001b[0moutput\u001b[0m \u001b[0;32min\u001b[0m \u001b[0moutputs\u001b[0m\u001b[0;34m:\u001b[0m\u001b[0;34m\u001b[0m\u001b[0;34m\u001b[0m\u001b[0m\n\u001b[0;32m--> 175\u001b[0;31m             \u001b[0mself\u001b[0m\u001b[0;34m.\u001b[0m\u001b[0m__import_r__\u001b[0m\u001b[0;34m(\u001b[0m\u001b[0moutput\u001b[0m\u001b[0;34m,\u001b[0m \u001b[0mreason\u001b[0m\u001b[0;34m=\u001b[0m\u001b[0;34m\"init\"\u001b[0m\u001b[0;34m)\u001b[0m\u001b[0;34m\u001b[0m\u001b[0;34m\u001b[0m\u001b[0m\n\u001b[0m\u001b[1;32m    176\u001b[0m         \u001b[0;32mfor\u001b[0m \u001b[0mi\u001b[0m\u001b[0;34m,\u001b[0m \u001b[0moutput\u001b[0m \u001b[0;32min\u001b[0m \u001b[0menumerate\u001b[0m\u001b[0;34m(\u001b[0m\u001b[0moutputs\u001b[0m\u001b[0;34m)\u001b[0m\u001b[0;34m:\u001b[0m\u001b[0;34m\u001b[0m\u001b[0;34m\u001b[0m\u001b[0m\n\u001b[1;32m    177\u001b[0m             \u001b[0moutput\u001b[0m\u001b[0;34m.\u001b[0m\u001b[0mclients\u001b[0m\u001b[0;34m.\u001b[0m\u001b[0mappend\u001b[0m\u001b[0;34m(\u001b[0m\u001b[0;34m(\u001b[0m\u001b[0;34m'output'\u001b[0m\u001b[0;34m,\u001b[0m \u001b[0mi\u001b[0m\u001b[0;34m)\u001b[0m\u001b[0;34m)\u001b[0m\u001b[0;34m\u001b[0m\u001b[0;34m\u001b[0m\u001b[0m\n",
      "\u001b[0;32m~/.conda/envs/kerasspring/lib/python3.6/site-packages/theano/gof/fg.py\u001b[0m in \u001b[0;36m__import_r__\u001b[0;34m(self, variable, reason)\u001b[0m\n\u001b[1;32m    344\u001b[0m         \u001b[0;31m# Imports the owners of the variables\u001b[0m\u001b[0;34m\u001b[0m\u001b[0;34m\u001b[0m\u001b[0;34m\u001b[0m\u001b[0m\n\u001b[1;32m    345\u001b[0m         \u001b[0;32mif\u001b[0m \u001b[0mvariable\u001b[0m\u001b[0;34m.\u001b[0m\u001b[0mowner\u001b[0m \u001b[0;32mand\u001b[0m \u001b[0mvariable\u001b[0m\u001b[0;34m.\u001b[0m\u001b[0mowner\u001b[0m \u001b[0;32mnot\u001b[0m \u001b[0;32min\u001b[0m \u001b[0mself\u001b[0m\u001b[0;34m.\u001b[0m\u001b[0mapply_nodes\u001b[0m\u001b[0;34m:\u001b[0m\u001b[0;34m\u001b[0m\u001b[0;34m\u001b[0m\u001b[0m\n\u001b[0;32m--> 346\u001b[0;31m                 \u001b[0mself\u001b[0m\u001b[0;34m.\u001b[0m\u001b[0m__import__\u001b[0m\u001b[0;34m(\u001b[0m\u001b[0mvariable\u001b[0m\u001b[0;34m.\u001b[0m\u001b[0mowner\u001b[0m\u001b[0;34m,\u001b[0m \u001b[0mreason\u001b[0m\u001b[0;34m=\u001b[0m\u001b[0mreason\u001b[0m\u001b[0;34m)\u001b[0m\u001b[0;34m\u001b[0m\u001b[0;34m\u001b[0m\u001b[0m\n\u001b[0m\u001b[1;32m    347\u001b[0m         elif (variable.owner is None and\n\u001b[1;32m    348\u001b[0m                 \u001b[0;32mnot\u001b[0m \u001b[0misinstance\u001b[0m\u001b[0;34m(\u001b[0m\u001b[0mvariable\u001b[0m\u001b[0;34m,\u001b[0m \u001b[0mgraph\u001b[0m\u001b[0;34m.\u001b[0m\u001b[0mConstant\u001b[0m\u001b[0;34m)\u001b[0m \u001b[0;32mand\u001b[0m\u001b[0;34m\u001b[0m\u001b[0;34m\u001b[0m\u001b[0m\n",
      "\u001b[0;32m~/.conda/envs/kerasspring/lib/python3.6/site-packages/theano/gof/fg.py\u001b[0m in \u001b[0;36m__import__\u001b[0;34m(self, apply_node, check, reason)\u001b[0m\n\u001b[1;32m    389\u001b[0m                                      \u001b[0;34m\"for more information on this error.\"\u001b[0m\u001b[0;34m\u001b[0m\u001b[0;34m\u001b[0m\u001b[0m\n\u001b[1;32m    390\u001b[0m                                      % (node.inputs.index(r), str(node)))\n\u001b[0;32m--> 391\u001b[0;31m                         \u001b[0;32mraise\u001b[0m \u001b[0mMissingInputError\u001b[0m\u001b[0;34m(\u001b[0m\u001b[0merror_msg\u001b[0m\u001b[0;34m,\u001b[0m \u001b[0mvariable\u001b[0m\u001b[0;34m=\u001b[0m\u001b[0mr\u001b[0m\u001b[0;34m)\u001b[0m\u001b[0;34m\u001b[0m\u001b[0;34m\u001b[0m\u001b[0m\n\u001b[0m\u001b[1;32m    392\u001b[0m \u001b[0;34m\u001b[0m\u001b[0m\n\u001b[1;32m    393\u001b[0m         \u001b[0;32mfor\u001b[0m \u001b[0mnode\u001b[0m \u001b[0;32min\u001b[0m \u001b[0mnew_nodes\u001b[0m\u001b[0;34m:\u001b[0m\u001b[0;34m\u001b[0m\u001b[0;34m\u001b[0m\u001b[0m\n",
      "\u001b[0;31mMissingInputError\u001b[0m: Input 0 of the graph (indices start from 0), used to compute Reshape{2}(/sent_input, TensorConstant{[-1 38]}), was not provided and not given a value. Use the Theano flag exception_verbosity='high', for more information on this error.\n \nBacktrace when that variable is created:\n\n  File \"/home/RDC/crajapax/.conda/envs/kerasspring/lib/python3.6/site-packages/IPython/core/interactiveshell.py\", line 3058, in run_cell_async\n    interactivity=interactivity, compiler=compiler, result=result)\n  File \"/home/RDC/crajapax/.conda/envs/kerasspring/lib/python3.6/site-packages/IPython/core/interactiveshell.py\", line 3249, in run_ast_nodes\n    if (await self.run_code(code, result,  async_=asy)):\n  File \"/home/RDC/crajapax/.conda/envs/kerasspring/lib/python3.6/site-packages/IPython/core/interactiveshell.py\", line 3326, in run_code\n    exec(code_obj, self.user_global_ns, self.user_ns)\n  File \"<ipython-input-31-7e492e76391c>\", line 17, in <module>\n    sent_input = Input(shape=(max_sentences,maxlen), dtype='int32',name='sent_input')\n  File \"/home/RDC/crajapax/.conda/envs/kerasspring/lib/python3.6/site-packages/keras/engine/input_layer.py\", line 178, in Input\n    input_tensor=tensor)\n  File \"/home/RDC/crajapax/.conda/envs/kerasspring/lib/python3.6/site-packages/keras/legacy/interfaces.py\", line 91, in wrapper\n    return func(*args, **kwargs)\n  File \"/home/RDC/crajapax/.conda/envs/kerasspring/lib/python3.6/site-packages/keras/engine/input_layer.py\", line 87, in __init__\n    name=self.name)\n  File \"/home/RDC/crajapax/.conda/envs/kerasspring/lib/python3.6/site-packages/keras/backend/theano_backend.py\", line 254, in placeholder\n    x = T.TensorType(dtype, broadcast)(name)\n"
     ]
    }
   ],
   "source": [
    "sent_att[0].eval()"
   ]
  },
  {
   "cell_type": "code",
   "execution_count": 55,
   "metadata": {},
   "outputs": [],
   "source": [
    "import theano\n",
    "import theano.tensor as T\n",
    "import numpy as np\n",
    "\n",
    "class testxx(object):\n",
    "    def __init__(self, input):\n",
    "        self.input = input\n",
    "        self.output = T.sum(input)\n",
    "a = T.matrix(dtype=theano.config.floatX)\n",
    "classfier = testxx(a)\n",
    "outxx = classfier.output\n",
    "f = theano.function([a], outxx)\n",
    "outxx = f(np.array([[1, 2, 3], [4, 5, 6], [7, 8, 9]], dtype = np.float32))"
   ]
  },
  {
   "cell_type": "code",
   "execution_count": 69,
   "metadata": {},
   "outputs": [],
   "source": [
    "classfier = testxx(sent_att)\n",
    "outxx = classfier.output\n",
    "f = theano.function([sent_att], outxx)\n",
    "#outxx = f(np.array([[1, 2, 3], [4, 5, 6], [7, 8, 9]], dtype = np.float32))"
   ]
  },
  {
   "cell_type": "code",
   "execution_count": 73,
   "metadata": {},
   "outputs": [
    {
     "data": {
      "text/plain": [
       "<__main__.testxx at 0x7f0a706faeb8>"
      ]
     },
     "execution_count": 73,
     "metadata": {},
     "output_type": "execute_result"
    }
   ],
   "source": [
    "classfier"
   ]
  },
  {
   "cell_type": "code",
   "execution_count": null,
   "metadata": {},
   "outputs": [],
   "source": []
  },
  {
   "cell_type": "code",
   "execution_count": 64,
   "metadata": {},
   "outputs": [
    {
     "data": {
      "text/plain": [
       "TensorType(float32, matrix)"
      ]
     },
     "execution_count": 64,
     "metadata": {},
     "output_type": "execute_result"
    }
   ],
   "source": [
    "sent_att.type"
   ]
  },
  {
   "cell_type": "code",
   "execution_count": null,
   "metadata": {},
   "outputs": [],
   "source": []
  },
  {
   "cell_type": "code",
   "execution_count": 63,
   "metadata": {},
   "outputs": [
    {
     "data": {
      "text/plain": [
       "<bound method Variable.eval of Sum{axis=[1], acc_dtype=float64}.0>"
      ]
     },
     "execution_count": 63,
     "metadata": {},
     "output_type": "execute_result"
    }
   ],
   "source": [
    "npy"
   ]
  }
 ],
 "metadata": {
  "kernelspec": {
   "display_name": "kerasspring",
   "language": "python",
   "name": "kerasspring"
  },
  "language_info": {
   "codemirror_mode": {
    "name": "ipython",
    "version": 3
   },
   "file_extension": ".py",
   "mimetype": "text/x-python",
   "name": "python",
   "nbconvert_exporter": "python",
   "pygments_lexer": "ipython3",
   "version": "3.6.9"
  }
 },
 "nbformat": 4,
 "nbformat_minor": 2
}
